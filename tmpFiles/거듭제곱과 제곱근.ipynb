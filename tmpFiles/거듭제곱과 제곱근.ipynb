{
 "cells": [
  {
   "cell_type": "markdown",
   "id": "c8ee5d55",
   "metadata": {},
   "source": [
    "# 거듭제곱과 제곱근\n",
    "\n",
    "거듭제곱과 제곱근은 수식을 기술하는데 활약합니다.\n",
    "\n",
    "## 거듭제곱\n",
    "\n",
    "같은 수 또는 문자를 여러 번 곱하는 것을 거듭제곱이라고 합니다.\n",
    "예를들어, \n",
    "\n",
    "$$\n",
    "3 * 3 * 3 * 3 * 3\n",
    "$$\n",
    "\n",
    "는 3번을 5번 곱하고 있는데 다음과 같이 짧게 표기할 수 있습니다.\n",
    "\n",
    "$$\n",
    "3^5\n",
    "$$\n",
    "\n",
    "이것은 3의 5제곱이라고 읽습니다.\n",
    "이상을 근거로 x,y를 변수, a를 상수로서 거듭제곱을 다음과 같이 나타낼 수 있습니다.\n",
    "\n",
    "$$\n",
    "y = x^a\n",
    "$$\n",
    "\n",
    "이때, x,y,a,는 소수가 되기도 합니다 a가 0일떄 y는 다음과 같이 나타낼 수있습니다.\n",
    "$$\n",
    "x^0 = 1\n",
    "$$\n",
    "또한, 거듭제곱에 관해서 다음의 관계가 성립됩니다.\n",
    "\n",
    "$$\n",
    "({x^a})^b = x^{ab}\\\\\n",
    "x^ax^b = x^{a+b}\\\\\n",
    "x^{-a} = \\frac{1}{x^a}\\\\\n",
    "$$"
   ]
  },
  {
   "cell_type": "markdown",
   "id": "67370f83",
   "metadata": {},
   "source": [
    "수식$$y = x^a$$를 코드로 구현합니다. Python에서의 거듭제곱은 ** 로 기술합니다."
   ]
  },
  {
   "cell_type": "code",
   "execution_count": 2,
   "id": "02c2e7d6",
   "metadata": {},
   "outputs": [
    {
     "data": {
      "image/png": "[encoded data removed]",
      "text/plain": [
       "<Figure size 432x288 with 1 Axes>"
      ]
     },
     "metadata": {
      "needs_background": "dark"
     },
     "output_type": "display_data"
    }
   ],
   "source": [
    "import numpy as np\n",
    "import matplotlib.pyplot as plt\n",
    "\n",
    "def my_func(x):\n",
    "    a = 3\n",
    "    return x**a # x의 제곱\n",
    "\n",
    "x = np.linspace(0,2)\n",
    "y = my_func(x) # y= f(x)\n",
    "\n",
    "np.finfo(np.dtype(\"float64\"))\n",
    "\n",
    "plt.plot(x,y)\n",
    "plt.tick_params(axis='x', colors='white')\n",
    "plt.tick_params(axis='y', colors='white')\n",
    "plt.xlabel(\"x\",size=14,color='white')\n",
    "plt.ylabel(\"y\",size=14,color='white')\n",
    "plt.grid()\n",
    "plt.show()"
   ]
  },
  {
   "cell_type": "markdown",
   "id": "11e59e9e",
   "metadata": {},
   "source": [
    "x 값이 1일떄 y값은 1, x 값이 2일떄 y값은 8이 됩니다. 각각 1의 3제곱과 2의 3제곱에 대응합니다. 또한. x 값이 정수가 아닌 경우라도 거듭제곱을 연속적으로 게산할 수 있다는 걸 알 수 있습니다.\n",
    "\n",
    "## 제곱근\n",
    "\n",
    "다음의 관계를 살펴봅시다.\n",
    "\n",
    "$$\n",
    "y = x^a\n",
    "$$\n",
    "\n",
    "이때, $$({x^a})^b = x^{ab}$$ 에 의해 $$ a = \\frac{1}{2}$$이라면 양변을 2제곱하면 우변은 x가 됩니다.\n",
    "\n",
    "$$\n",
    "y^2 = (x^{\\frac{1}{2}})^2 \\\\\n",
    "= x\n",
    "$$"
   ]
  },
  {
   "cell_type": "markdown",
   "id": "8dd0a627",
   "metadata": {},
   "source": [
    "이처럼 2제곱해서 x가 되는 y를 x의 제곱근이라고 합니다.\n",
    "제곱근에는 양수와 음수가 있습니다. 예를 들어, 9의 제곱근은 3과 -3입니다.\n",
    "이 중 양의 제곱근은 $$\\sqrt{}$$ 기호를 사용해서 다음과 같이 기술할 수 있습니다.\n",
    "$$\n",
    "y = \\sqrt{x}\n",
    "$$\n",
    "\n",
    "## 제곱근을 코드로 구현\n",
    "\n",
    "수식 $$y=\\sqrt{x}$$를 코드로 구현합니다. 양의 제곱근은 NUmpy의 sqrt() 함수로 구할 수 있습니다."
   ]
  },
  {
   "cell_type": "code",
   "execution_count": 4,
   "id": "4452a63b",
   "metadata": {},
   "outputs": [
    {
     "data": {
      "image/png": "[encoded data removed]",
      "text/plain": [
       "<Figure size 432x288 with 1 Axes>"
      ]
     },
     "metadata": {
      "needs_background": "dark"
     },
     "output_type": "display_data"
    }
   ],
   "source": [
    "import numpy as np\n",
    "import matplotlib.pyplot as plt\n",
    "\n",
    "def my_func(x):\n",
    "    return np.sqrt(x) # x의 양의 제곱근. x**(1/2)로도 같음\n",
    "\n",
    "x = np.linspace(0,9)\n",
    "y = my_func(x) # y= f(x)\n",
    "\n",
    "np.finfo(np.dtype(\"float64\"))\n",
    "\n",
    "plt.plot(x,y)\n",
    "plt.tick_params(axis='x', colors='white')\n",
    "plt.tick_params(axis='y', colors='white')\n",
    "plt.xlabel(\"x\",size=14,color='white')\n",
    "plt.ylabel(\"y\",size=14,color='white')\n",
    "plt.grid()\n",
    "plt.show()"
   ]
  },
  {
   "cell_type": "markdown",
   "id": "1b15b5b9",
   "metadata": {},
   "source": [
    "x 값이 4일 떄 y값은 2, x 값이 9일 떄에 y값은 3입니다. 각각, 4의 양 제곱근과 9의 양 제곱근에 대응합니다. 또한 x값이 정수가 아닌 경우라도 제곱근을 연속적으로 계산할 수 있습니다."
   ]
  }
 ],
 "metadata": {
  "kernelspec": {
   "display_name": "Python 3 (ipykernel)",
   "language": "python",
   "name": "python3"
  },
  "language_info": {
   "codemirror_mode": {
    "name": "ipython",
    "version": 3
   },
   "file_extension": ".py",
   "mimetype": "text/x-python",
   "name": "python",
   "nbconvert_exporter": "python",
   "pygments_lexer": "ipython3",
   "version": "3.10.5"
  }
 },
 "nbformat": 4,
 "nbformat_minor": 5
}
