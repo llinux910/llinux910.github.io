{
 "cells": [
  {
   "cell_type": "markdown",
   "id": "d7d3c8bf",
   "metadata": {},
   "source": [
    "# 선형변환\n",
    "선형변환에 의해 벡터를 변환합니다. 인공지능에서는 뉴럴 네트워크로 정보를 전파시키는데 선형변환을 사용합니다.\n",
    "\n",
    "## 벡터 그리기\n",
    "다음의 세로 벡터를 화살표로 그립니다.\n",
    "\n",
    "$$\n",
    "\\vec{a} = \\begin{cases}2 \\\\3 \\end{cases} \\\\\n",
    "$$\n",
    "\n"
   ]
  },
  {
   "cell_type": "markdown",
   "id": "629108a4",
   "metadata": {},
   "source": [
    "화살표를 그리려면 matplotlib.pyplot의 **quiver()** 함수를 사용합니다. **quiver()** 함수는 아래와 같이 작성합니다.\n",
    "\n"
   ]
  },
  {
   "cell_type": "markdown",
   "id": "2cdf755c",
   "metadata": {},
   "source": [
    "quiver(시작점의 x좌표, 끝점의 y좌표, 화살표의 x성분, 화살표의y 성분,angles=화살표의 삭도 결정 방법,scale_units=스케일 단위,scale=스케일,color=화살표색)"
   ]
  },
  {
   "cell_type": "markdown",
   "id": "8df5701b",
   "metadata": {},
   "source": [
    "화살표의 x성분과 y 성분으로 벡터를 표현합니다. 아래코드는 angle,scale_units,scale은 사용하지않습니다.\n"
   ]
  },
  {
   "cell_type": "code",
   "execution_count": 5,
   "id": "082d7dc8",
   "metadata": {},
   "outputs": [
    {
     "data": {
      "image/png": "[encoded data removed]",
      "text/plain": [
       "<Figure size 640x480 with 1 Axes>"
      ]
     },
     "metadata": {},
     "output_type": "display_data"
    }
   ],
   "source": [
    "import numpy as np\n",
    "import matplotlib.pyplot as plt\n",
    "\n",
    "np.finfo(np.dtype(\"float32\"))\n",
    "np.finfo(np.dtype(\"float64\"))\n",
    "\n",
    "# 화살표를 그리는 함수\n",
    "def arrow(start,size,color):\n",
    "    plt.quiver(start[0],start[1],size[0],size[1],angles=\"xy\",scale_units=\"xy\",scale=1,color=color)\n",
    "    \n",
    "#화살표의 시작점\n",
    "s = np.array([0,0]) # 원점\n",
    "\n",
    "# 벡터\n",
    "a = np.array([2,3]) # 세로 벡터를 나타낸다.\n",
    "\n",
    "\n",
    "arrow(s,a,color=\"black\")\n",
    "\n",
    "#그래프 표시\n",
    "plt.xlim([-3,3]) # x의 표시 범위\n",
    "plt.ylim([-3,3]) # y의 표시 범위\n",
    "plt.xlabel(\"x\",size=14)\n",
    "plt.ylabel(\"y\",size=14)\n",
    "plt.grid()\n",
    "plt.gca().set_aspect(\"equal\") # 가로세로비를 같게\n",
    "plt.show()"
   ]
  },
  {
   "cell_type": "markdown",
   "id": "2f9a4875",
   "metadata": {},
   "source": [
    "원점을 시작점으로 한 화살표로 벡터를 그릴 수 있었습니다."
   ]
  },
  {
   "cell_type": "markdown",
   "id": "39701c88",
   "metadata": {},
   "source": [
    "## 선형변환\n",
    "\n",
    "다음의 행렬 A를 살펴봅시다.\n",
    "\n",
    "$$ A = \n",
    "\\begin{pmatrix}\n",
    "2 & -1 \\\\\n",
    "2 & -2 \\\\\n",
    "\\end{pmatrix}\n",
    "$$"
   ]
  },
  {
   "cell_type": "markdown",
   "id": "f66ce47c",
   "metadata": {},
   "source": [
    "다음과 같이해서 이 행렬 A를 세로 벡터 $$\\vec{a} $$에 곱함으로써 벡터를 변환할 수 있습니다."
   ]
  },
  {
   "cell_type": "code",
   "execution_count": null,
   "id": "33ee3cc8",
   "metadata": {},
   "outputs": [],
   "source": []
  }
 ],
 "metadata": {
  "kernelspec": {
   "display_name": "Python 3 (ipykernel)",
   "language": "python",
   "name": "python3"
  },
  "language_info": {
   "codemirror_mode": {
    "name": "ipython",
    "version": 3
   },
   "file_extension": ".py",
   "mimetype": "text/x-python",
   "name": "python",
   "nbconvert_exporter": "python",
   "pygments_lexer": "ipython3",
   "version": "3.10.8"
  }
 },
 "nbformat": 4,
 "nbformat_minor": 5
}
