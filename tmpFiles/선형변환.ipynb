{
 "cells": [
  {
   "cell_type": "markdown",
   "id": "8b4c42e0",
   "metadata": {},
   "source": [
    "# 선형변환\n",
    "선형변환에 의해 벡터를 변환합니다. 인공지능에서는 뉴럴 네트워크로 정보를 전파시키는데 선형변환을 사용합니다.\n",
    "\n",
    "## 벡터 그리기\n",
    "다음의 세로 벡터를 화살표로 그립니다.\n",
    "\n",
    "$$\n",
    "\\vec{a} = \\begin{cases}2 \\\\3 \\end{cases} \\\\\n",
    "$$\n",
    "\n"
   ]
  },
  {
   "cell_type": "markdown",
   "id": "6e5ca5e8",
   "metadata": {},
   "source": [
    "화살표를 그리려면 matplotlib.pyplot의 **quiver()** 함수를 사용합니다. **quiver()** 함수는 아래와 같이 작성합니다.\n",
    "\n"
   ]
  },
  {
   "cell_type": "markdown",
   "id": "359d2d54",
   "metadata": {},
   "source": [
    "quiver(시작점의 x좌표, 끝점의 y좌표, 화살표의 x성분, 화살표의y 성분,angles=화살표의 삭도 결정 방법,scale_units=스케일 단위,scale=스케일,color=화살표색)"
   ]
  },
  {
   "cell_type": "markdown",
   "id": "782f7dc3",
   "metadata": {},
   "source": [
    "화살표의 x성분과 y 성분으로 벡터를 표현합니다. 아래코드는 angle,scale_units,scale은 사용하지않습니다.\n"
   ]
  },
  {
   "cell_type": "code",
   "execution_count": 5,
   "id": "a27c4804",
   "metadata": {},
   "outputs": [
    {
     "data": {
      "image/png": "[encoded data removed]",
      "text/plain": [
       "<Figure size 640x480 with 1 Axes>"
      ]
     },
     "metadata": {},
     "output_type": "display_data"
    }
   ],
   "source": [
    "import numpy as np\n",
    "import matplotlib.pyplot as plt\n",
    "\n",
    "np.finfo(np.dtype(\"float32\"))\n",
    "np.finfo(np.dtype(\"float64\"))\n",
    "\n",
    "# 화살표를 그리는 함수\n",
    "def arrow(start,size,color):\n",
    "    plt.quiver(start[0],start[1],size[0],size[1],angles=\"xy\",scale_units=\"xy\",scale=1,color=color)\n",
    "    \n",
    "#화살표의 시작점\n",
    "s = np.array([0,0]) # 원점\n",
    "\n",
    "# 벡터\n",
    "a = np.array([2,3]) # 세로 벡터를 나타낸다.\n",
    "\n",
    "\n",
    "arrow(s,a,color=\"black\")\n",
    "\n",
    "#그래프 표시\n",
    "plt.xlim([-3,3]) # x의 표시 범위\n",
    "plt.ylim([-3,3]) # y의 표시 범위\n",
    "plt.xlabel(\"x\",size=14)\n",
    "plt.ylabel(\"y\",size=14)\n",
    "plt.grid()\n",
    "plt.gca().set_aspect(\"equal\") # 가로세로비를 같게\n",
    "plt.show()"
   ]
  },
  {
   "cell_type": "markdown",
   "id": "9df06165",
   "metadata": {},
   "source": [
    "원점을 시작점으로 한 화살표로 벡터를 그릴 수 있었습니다."
   ]
  },
  {
   "cell_type": "markdown",
   "id": "3f4591bb",
   "metadata": {},
   "source": [
    "## 선형변환\n",
    "\n",
    "다음의 행렬 A를 살펴봅시다.\n",
    "\n",
    "$$ A = \n",
    "\\begin{pmatrix}\n",
    "2 & -1 \\\\\n",
    "2 & -2 \\\\\n",
    "\\end{pmatrix}\n",
    "$$"
   ]
  },
  {
   "cell_type": "markdown",
   "id": "91314151",
   "metadata": {},
   "source": [
    "다음과 같이해서 이 행렬 A를 세로 벡터 $$\\vec{a} $$에 곱함으로써 벡터를 변환할 수 있습니다."
   ]
  },
  {
   "cell_type": "markdown",
   "id": "1b059122",
   "metadata": {},
   "source": [
    "$$\n",
    "\\vec{b} = A\\vec{a} = \n",
    "\\begin{pmatrix}\n",
    "2 & -1 \\\\\n",
    "2 & -2 \\\\\n",
    "\\end{pmatrix}\\begin{pmatrix}\n",
    "2 \\\\\n",
    "3 \\\\\n",
    "\\end{pmatrix} \n",
    "= \\begin{pmatrix}\n",
    "1 \\\\\n",
    "-2 \\\\\n",
    "\\end{pmatrix}\n",
    "$$"
   ]
  },
  {
   "cell_type": "markdown",
   "id": "05b16660",
   "metadata": {},
   "source": [
    "위와 같이 행렬 A에 의해 벡터 $$\\vec{a}$$ 는 벡터 $$\\vec{b}$$로 변환됐습니다.\n",
    "이처럼 벡터에서 벡터로의 변환을 선형변환이라고 합니다.\n",
    "변환 전의 벡터 $$\\vec{a}$$, 변환 후의 벡터 $$\\vec{b}$$를 화살표로 그리면 아래와 같습니다.\n"
   ]
  },
  {
   "cell_type": "code",
   "execution_count": 6,
   "id": "81132374",
   "metadata": {},
   "outputs": [
    {
     "name": "stdout",
     "output_type": "stream",
     "text": [
      "변환 전의 벡터(a): [2 3]\n",
      "변환 후의 벡터(b): [ 1 -2]\n"
     ]
    },
    {
     "data": {
      "image/png": "[encoded data removed]",
      "text/plain": [
       "<Figure size 640x480 with 1 Axes>"
      ]
     },
     "metadata": {},
     "output_type": "display_data"
    }
   ],
   "source": [
    "import numpy as np\n",
    "import matplotlib.pyplot as plt\n",
    "\n",
    "a = np.array([2,3]) # 변환 전의 벡터\n",
    "\n",
    "A = np.array([[2,-1],[2,-2]])\n",
    "\n",
    "b = np.dot(A,a) # 선형변환\n",
    "\n",
    "print(\"변환 전의 벡터(a):\",a)\n",
    "print(\"변환 후의 벡터(b):\",b)\n",
    "\n",
    "# 화살표를 그리는 함수\n",
    "def arrow(start,size,color):\n",
    "    plt.quiver(start[0],start[1],size[0],size[1],angles=\"xy\",scale_units=\"xy\",scale=1,color=color)\n",
    "    \n",
    "\n",
    "s = np.array([0,0]) # 원점\n",
    "\n",
    "arrow(s,a,color=\"black\")\n",
    "arrow(s,b,color=\"blue\")\n",
    "\n",
    "#그래프 표시\n",
    "plt.xlim([-3,3]) # x의 표시 범위\n",
    "plt.ylim([-3,3]) # y의 표시 범위\n",
    "plt.xlabel(\"x\",size=14)\n",
    "plt.ylabel(\"y\",size=14)\n",
    "plt.grid()\n",
    "plt.gca().set_aspect(\"equal\") # 가로세로비를 같게\n",
    "plt.show()\n"
   ]
  },
  {
   "cell_type": "markdown",
   "id": "89e6c3e9",
   "metadata": {},
   "source": [
    "행렬 A에 의해 검정색 화살표로 표시되는 벡터 $$\\vec{a}$$가 파란색 화살표로 표시되는 벡터$$\\vec{b}$$로 변환됐습니다."
   ]
  },
  {
   "cell_type": "markdown",
   "id": "788a4bf0",
   "metadata": {},
   "source": [
    "## 표준기저\n",
    "\n",
    "다음의 벡터 $$\\vec{e_x}$$와 $$\\vec{e_y}$$는 **표준기저**라고 합니다.\n",
    "\n",
    "$$\n",
    "\\vec{e_x} = \\begin{pmatrix}\n",
    "1 \\\\\n",
    "0 \\\\\n",
    "\\end{pmatrix} \\\\\n",
    "\\vec{e_y} = \\begin{pmatrix}\n",
    "0 \\\\\n",
    "1 \\\\\n",
    "\\end{pmatrix}\n",
    "$$\n"
   ]
  },
  {
   "cell_type": "markdown",
   "id": "b636be80",
   "metadata": {},
   "source": [
    "이때, 벡터$$\\vec{a}$$는 다음과 같이 나타낼 수 있습니다.\n",
    "\n",
    "$$\n",
    "\\vec{a} = \\begin{pmatrix}\n",
    "2 \\\\\n",
    "3 \\\\\n",
    "\\end{pmatrix}= \n",
    "2\\begin{pmatrix}\n",
    "1 \\\\\n",
    "0 \\\\\n",
    "\\end{pmatrix} + \n",
    "3\\begin{pmatrix}\n",
    "0 \\\\\n",
    "1 \\\\\n",
    "\\end{pmatrix} = 2\\vec{e_x} + 3\\vec{e_y}\n",
    "$$"
   ]
  },
  {
   "cell_type": "markdown",
   "id": "11d293c7",
   "metadata": {},
   "source": [
    "이상과 같이 벡터는 표준기저와 상수의 곱의 합으로 표현할 수 있습니다.\n",
    "아래는 표준기저를 그립니다."
   ]
  },
  {
   "cell_type": "code",
   "execution_count": 9,
   "id": "e71a442e",
   "metadata": {},
   "outputs": [
    {
     "name": "stdout",
     "output_type": "stream",
     "text": [
      "a: [2 3]\n",
      "e_x: [1 0]\n",
      "e_y [0 1]\n"
     ]
    },
    {
     "data": {
      "image/png": "[encoded data removed]",
      "text/plain": [
       "<Figure size 640x480 with 1 Axes>"
      ]
     },
     "metadata": {},
     "output_type": "display_data"
    }
   ],
   "source": [
    "import numpy as np\n",
    "import matplotlib.pyplot as plt\n",
    "\n",
    "a = np.array([2,3])\n",
    "e_x = np.array([1,0]) # 표준기저\n",
    "e_y = np.array([0,1]) # 표준기저\n",
    "\n",
    "print(\"a:\",a)\n",
    "print(\"e_x:\",e_x)\n",
    "print(\"e_y\",e_y)\n",
    "\n",
    "# 화살표를 그리는 함수\n",
    "def arrow(start,size,color):\n",
    "    plt.quiver(start[0],start[1],size[0],size[1],angles=\"xy\",scale_units=\"xy\",scale=1,color=color)\n",
    "    \n",
    "\n",
    "s = np.array([0,0]) # 원점\n",
    "\n",
    "arrow(s,a,color=\"blue\")\n",
    "arrow(s,e_x,color=\"black\")\n",
    "arrow(s,e_y,color=\"black\")\n",
    "\n",
    "#그래프 표시\n",
    "plt.xlim([-3,3]) # x의 표시 범위\n",
    "plt.ylim([-3,3]) # y의 표시 범위\n",
    "plt.xlabel(\"x\",size=14)\n",
    "plt.ylabel(\"y\",size=14)\n",
    "plt.grid()\n",
    "plt.gca().set_aspect(\"equal\") # 가로세로비를 같게\n",
    "plt.show()\n"
   ]
  },
  {
   "cell_type": "markdown",
   "id": "5eea3586",
   "metadata": {},
   "source": [
    "파란색 화살표의 벡터는 ㄱ머정색 화살표의 표준기저에 상수를 곱하고 더함으로써 나타납니다.\n",
    "\n",
    "표준기저를 이용하여 벡터의 일반적인 표현을 합니다.\n",
    "m개의 요소를 가진 벡터 $$\\vec{a}$$ 는 표준기저를 이용해 다음과 같이 나타냅니다.\n",
    "\n",
    "$$\n",
    "\\vec{a} = \\sum_{j=1}^m r_j{\\vec{e_j}}\n",
    "$$"
   ]
  },
  {
   "cell_type": "markdown",
   "id": "35debeae",
   "metadata": {},
   "source": [
    "$$r_j$$가 상수로 $$\\vec{e_j}$$가 각 요소에 대응하는 표준기저입니다."
   ]
  },
  {
   "cell_type": "markdown",
   "id": "d5329842",
   "metadata": {},
   "source": [
    "이 벡터에 다음의 n * m 행렬 P를 사용해서 선형변환을 실시합니다.\n",
    "\n",
    "$$\n",
    "A = \\begin{pmatrix}\n",
    "a_{11} & a_{12} & \\cdots & a_{1n}\\\\\n",
    "a_{21} & a_{22} & \\cdots & a_{2n}\\\\\n",
    "\\vdots & \\vdots & \\ddots & \\vdots \\\\\n",
    "a_{m1} & a_{m2} & \\cdots & a_{mn}\n",
    "\\end{pmatrix}\n",
    "$$\n",
    "\n",
    "$$\n",
    "\\vec{b} = A\\vec{a}\n",
    "$$"
   ]
  },
  {
   "cell_type": "markdown",
   "id": "07268ca2",
   "metadata": {},
   "source": [
    "이 결과 얻어진 $$\\vec{b}$$는 표준기저를 사용해 다음과 같이 나타낼 수 있습니다.\n",
    "\n",
    "$$\n",
    "\\vec{b} = \\sum_{k=1}^n s_k\\vec{e_k}\n",
    "$$\n",
    "\n",
    "$$\n",
    "{s_k}=\\sum_{j=1}^m {r_j}{a_{kj}}\n",
    "$$"
   ]
  },
  {
   "cell_type": "markdown",
   "id": "cc73b4a5",
   "metadata": {},
   "source": [
    "$${s_k}$$는 $$\\vec{b}$$의 각 표준기저에 곱하는 상수입니다. \n",
    "\n",
    "이처럼 $$\\vec{b}$$의 각 요소는 곱의 총합의 형태로 나타냅니다. 이 선형변환의 성질을 잉요하여 뉴럴 네트워크에서는 의사적인 신경 세포에 대한 여러 개의 입력에 가중치를 곱한 총합을 계산합니다.\n",
    "\n",
    "또한, n=m 이면 행렬 A는 정방행렬이 되는데 A가 정방행렬이 아니면 선형변환에 의해 벡터의 요소 수가 변하게 됩니다.\n",
    "예를 들어 다음 예에서는 선형변환에 의해 벡터의 요소 수가 2에서 3으로 변환합니다.\n",
    "\n",
    "$$\n",
    "\\begin{pmatrix}\n",
    "2 & -1 \\\\\n",
    "2 & -2 \\\\\n",
    "-1 & 2\n",
    "\\end{pmatrix}\n",
    "\\begin{pmatrix}\n",
    "2\\\\\n",
    "3\n",
    "\\end{pmatrix}\n",
    "=\n",
    "\\begin{pmatrix}\n",
    "1\\\\\n",
    "-2\\\\\n",
    "4\n",
    "\\end{pmatrix}\n",
    "$$"
   ]
  }
 ],
 "metadata": {
  "kernelspec": {
   "display_name": "Python 3 (ipykernel)",
   "language": "python",
   "name": "python3"
  },
  "language_info": {
   "codemirror_mode": {
    "name": "ipython",
    "version": 3
   },
   "file_extension": ".py",
   "mimetype": "text/x-python",
   "name": "python",
   "nbconvert_exporter": "python",
   "pygments_lexer": "ipython3",
   "version": "3.10.8"
  }
 },
 "nbformat": 4,
 "nbformat_minor": 5
}
