{
 "cells": [
  {
   "cell_type": "markdown",
   "id": "1a121fdd",
   "metadata": {},
   "source": [
    "\n",
    "\n",
    "## install \n",
    "\n",
    "env: claer-linux\n",
    "\n",
    "terminal : tmux , fish\n",
    "\n",
    "```bash\n",
    "curl --proto '=https' --tlsv1.2 -sSf https://sh.rustup.rs | sh\n",
    "set -Ua fish_user_paths $HOME/.cargo/bin\n",
    "```\n",
    "\n",
    "\n",
    "\n",
    "\n",
    "\n",
    "\n",
    "\n",
    "\n",
    "\n"
   ]
  },
  {
   "cell_type": "markdown",
   "id": "f2c72192",
   "metadata": {},
   "source": [
    "## commands\n",
    "\n",
    "```bash\n",
    "cargo new hello_word\n",
    "```\n",
    "\n",
    "```bash\n",
    "cd hello_world\n",
    "```\n",
    "\n",
    "```bash\n",
    "cargo run\n",
    "```\n",
    ">Run a binary or example of the local package.\n",
    "\n",
    "```bash\n",
    "cargo build\n",
    "```\n",
    ">Compile local packages and all of their dependencies.\n",
    "\n",
    "```bash\n",
    "cargo check\n",
    "```\n",
    ">Check a local package and all of its dependencies for errors\n",
    "\n",
    "```bash\n",
    "cargo build --release\n",
    "```\n",
    ">optimization file to release\n"
   ]
  },
  {
   "cell_type": "markdown",
   "id": "c8a363db",
   "metadata": {},
   "source": [
    "## dependencies\n",
    "\n",
    "hello_word/Cargo.toml ->\n",
    "\n",
    "```toml\n",
    "[package]\n",
    "name = \"hello_world\"\n",
    "version = \"0.1.0\"\n",
    "edition = \"2021\"\n",
    "\n",
    "# See more keys and their definitions at https://doc.rust-lang.org/cargo/reference/manifest.html\n",
    "\n",
    "[dependencies]\n",
    "rand = \"0.8.5\"\n",
    "```\n"
   ]
  },
  {
   "cell_type": "code",
   "execution_count": null,
   "id": "a3d04d81",
   "metadata": {},
   "outputs": [],
   "source": []
  }
 ],
 "metadata": {
  "kernelspec": {
   "display_name": "Python 3 (ipykernel)",
   "language": "python",
   "name": "python3"
  },
  "language_info": {
   "codemirror_mode": {
    "name": "ipython",
    "version": 3
   },
   "file_extension": ".py",
   "mimetype": "text/x-python",
   "name": "python",
   "nbconvert_exporter": "python",
   "pygments_lexer": "ipython3",
   "version": "3.10.2"
  }
 },
 "nbformat": 4,
 "nbformat_minor": 5
}
