{
 "cells": [
  {
   "cell_type": "markdown",
   "id": "1a121fdd",
   "metadata": {},
   "source": [
    "\n",
    "\n",
    "## install \n",
    "\n",
    "env: claer-linux\n",
    "\n",
    "terminal : tmux , fish\n",
    "\n",
    "```bash\n",
    "curl --proto '=https' --tlsv1.2 -sSf https://sh.rustup.rs | sh\n",
    "set -Ua fish_user_paths $HOME/.cargo/bin\n",
    "```\n",
    "\n",
    "\n",
    "\n",
    "\n",
    "\n",
    "\n",
    "\n",
    "\n",
    "\n"
   ]
  },
  {
   "cell_type": "markdown",
   "id": "a7cebaec",
   "metadata": {},
   "source": [
    "## commands\n",
    "\n",
    "```bash\n",
    "cargo new hello_word\n",
    "```\n",
    "\n",
    "\n",
    "```bash\n",
    "cd hello_world\n",
    "```\n",
    "\n",
    "\n",
    "```bash\n",
    "cargo run\n",
    "```\n",
    ">Run a binary or example of the local package.\n",
    "\n",
    "\n",
    "\n",
    "```bash\n",
    "rustfmt src/main\n",
    "```\n",
    ">formatting tool ensures a consistent coding style across developers.\n",
    "\n",
    "\n",
    "\n",
    "```bash\n",
    "cargo build\n",
    "```\n",
    ">Compile local packages and all of their dependencies.\n",
    "\n",
    "\n",
    "\n",
    "\n",
    "```bash\n",
    "cargo check\n",
    "```\n",
    ">Check a local package and all of its dependencies for errors\n",
    "\n",
    "\n",
    "\n",
    "\n",
    "```bash\n",
    "cargo build --release\n",
    "```\n",
    ">optimization file to release\n"
   ]
  },
  {
   "cell_type": "markdown",
   "id": "921a3163",
   "metadata": {},
   "source": [
    "## dependencies\n",
    "\n",
    "hello_word/Cargo.toml ->\n",
    "\n",
    "```toml\n",
    "[package]\n",
    "name = \"hello_world\"\n",
    "version = \"0.1.0\"\n",
    "edition = \"2021\"\n",
    "\n",
    "# See more keys and their definitions at https://doc.rust-lang.org/cargo/reference/manifest.html\n",
    "\n",
    "[dependencies]\n",
    "rand = \"0.8.5\"\n",
    "```\n"
   ]
  }
 ],
 "metadata": {
  "kernelspec": {
   "display_name": "Python 3 (ipykernel)",
   "language": "python",
   "name": "python3"
  },
  "language_info": {
   "codemirror_mode": {
    "name": "ipython",
    "version": 3
   },
   "file_extension": ".py",
   "mimetype": "text/x-python",
   "name": "python",
   "nbconvert_exporter": "python",
   "pygments_lexer": "ipython3",
   "version": "3.11.0"
  }
 },
 "nbformat": 4,
 "nbformat_minor": 5
}
