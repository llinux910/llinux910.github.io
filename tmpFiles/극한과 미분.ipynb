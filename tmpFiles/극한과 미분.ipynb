{
 "cells": [
  {
   "cell_type": "markdown",
   "id": "e1959d80",
   "metadata": {},
   "source": [
    "극한의 개념 그리고 이를 기반으로 한 미분의 개념을 이해합니다. 미분은 어떤 함수상의 각 점에서의 변화의 비율로 인공지능에서 자주 사용합니다.\n",
    "\n",
    "## 극한\n",
    "\n",
    "**극한**은 함수에서의 변수값을 어떤 값에 가깝게 할 때, 함수의 값이 한없이 가까워지는 값을 말합니다.\n",
    "\n",
    "예로서, 함수 $$y=x^2+1$$에서 $$x$$를 점차 작게 해서 0에 가깝게 하는 경우를 생각합니다.\n",
    "\n",
    "- x = 2일 때 y = 5\n",
    "- x = 1일 때 y = 2\n",
    "- x = 0.5일 떄 y는 1.25\n",
    "- x = 0.1일 때 y는 = 1.01\n",
    "- x = 0.01일 때 y는 = 1.0001\n",
    "\n",
    "이처럼 x를 0에 가깝게 하면 y는 1에 가까워 집니다.\n",
    "이것은 다음과 같이 식으로 나타낼 수 있습니다.\n",
    "\n",
    "$$\n",
    "\\lim_{x\\to 0}y = \\lim_{x\\to 0}(x^2+1) = 1\n",
    "$$\n",
    "\n",
    "이 식은 \"x를 한없이 0에 가깝게 하면, y가 한없이 1에 가까워진다\"는 의미입니다.\n"
   ]
  },
  {
   "cell_type": "markdown",
   "id": "8a6d69ce",
   "metadata": {},
   "source": [
    "## 미분\n",
    "\n",
    "함수 $$y = f(x) $$ 에서 x의 미소한 변화량을 x로 하면 x를 $$\\Delta x$$만큼 변화시킬 떄의 y 값은 다음과 같습니다.\n"
   ]
  },
  {
   "cell_type": "markdown",
   "id": "c85ba4ac",
   "metadata": {},
   "source": [
    "$$\n",
    "y = f(x+\\Delta x)\n",
    "$$\n",
    "\n",
    "이 때, y의 미소한 변화량은 다음과 같습니다.\n",
    "\n",
    "$$\n",
    "\\Delta y = f(x + \\Delta x) - f(x)\n",
    "$$"
   ]
  },
  {
   "cell_type": "markdown",
   "id": "ca5c3aed",
   "metadata": {},
   "source": [
    "따라서, y의 미소한 변화 $$\\Delta$$ 와 x의 미소한 변화 $$\\Delta x$$ 의 비율은 다음 식으로 표현합니다.\n",
    "\n",
    "$$\n",
    "\\frac{\\Delta y}{\\Delta x} = \\frac{f(x+\\Delta x) - f(x) }{\\Delta x}\n",
    "$$\n",
    "\n",
    "이 식에서 $$\\Delta x$$의 값을 0에 한없이 가까워지는 극한을 생각합니다.\n",
    "이 극한은 새로운 함수 $$f\\prime(x)$$로서 나타낼 수 있습니다.\n",
    "\n",
    "$$\n",
    "f\\prime(x) = \\lim_{\\Delta x \\to 0} \\frac{f(x + \\Delta x) - f(x) }{\\Delta x}\n",
    "$$\n",
    "\n",
    "이 함수 $$f\\prime(x)$$ 를 $$f(x)$$의 **도함수**라고 합니다.\n",
    "\n",
    "그리고 함수 $$f(x)$$로부터 도함수 $$f\\prime(x)$$를 얻는 걸 함수 $$f(x)$$를 **미분**한다고 합니다.\n",
    "\n",
    "도함수는 다음과 같이 표기할 수도 있습니다.\n",
    "\n",
    "$$\n",
    "f\\prime(x) = \\frac{df(x)}{dx} = \\frac{d}{dx}f(x)\n",
    "$$\n",
    "\n"
   ]
  },
  {
   "cell_type": "markdown",
   "id": "14754db1",
   "metadata": {},
   "source": [
    "이 경우는 함수의 변수가 x뿐인데, 이와 같은 1변수 함수에 대한 미분을 **상미분**이라고 합니다.\n",
    "\n",
    "보통 x에 대한 y의 변화 비율을 **기울기**(경사,그라디언트,구배)라고 부르는데, 도함수에 의해 1변수 함수 상의 어떤 점에서의 기울기를 구할 수 있습니다. \n",
    "\n",
    "함수 $$f(x)$$상의 어떤 점,(a, f(a))에서의 기울기는 $$f\\prime(a)$$가 됩니다.\n",
    "\n",
    "이 관계는 아래와 같습니다.\n",
    "\n",
    "![](https://t1.daumcdn.net/cfile/tistory/263E0B3958FBFCBB2A)\n",
    "\n",
    "위 그림에서 기울어진 파선은 곡선상의 점 $$(a,f(a))$$ 에서의 접선입니다. 그 접선의 x에 대한 y의 변화율, 즉 , 기울기는 $$f\\prime(a)$$ 이며, 곡선상의 이 점에서 국소적인 기울기와 같아집니다.\n",
    "\n",
    "또한, 이 접선의 식은 다음과 같습니다."
   ]
  },
  {
   "cell_type": "markdown",
   "id": "8b08641b",
   "metadata": {},
   "source": [
    "$$\n",
    "y = f\\prime(a)x + f(a) - f\\prime(a)a\n",
    "$$\n",
    "\n",
    "x에 a를 대입하면 y가 f(a)와 같아지는 것을 확인할 수 있습니다."
   ]
  },
  {
   "cell_type": "markdown",
   "id": "aacd55c2",
   "metadata": {},
   "source": [
    "## 미분 공식\n",
    "\n",
    "몇 가지 함수는 미분의 공식을 이용함으로써 간단하게 도함수를 구할 수 있습니다.\n",
    "\n",
    "다음에 미분 공식 몇가지를 살펴봅니다.\n",
    "\n",
    "r을 임의의 실수로서 $$f(x) = x^r$$로 했을 때, 다음이 성립됩니다.\n",
    "\n",
    "$$\n",
    "\\frac{d}{dx}f(x) = \\frac{d}{dx}x^r = rx^{r-1}\n",
    "$$\n",
    "\n",
    "또한, 함수의 함$$f(x)+g(x)$$를 미분할 때는 각각을 미분해서 더합니다.\n",
    "\n",
    "$$\n",
    "\\frac{d}{dx}(f(x)+g(x)) = \\frac{d}{dx}f(x) + \\frac{d}{dx}g(x)\n",
    "$$"
   ]
  },
  {
   "cell_type": "markdown",
   "id": "8f01715a",
   "metadata": {},
   "source": [
    "함수의 곱 $$f(x)g(x)$$는 다음과 같이 미분할 수 있습니다.\n",
    "\n",
    "$$\n",
    "\\frac{d}{dx}(f(x)g(x)) = f(x)\\frac{d}{dx}g(x) + g(x) \\frac{d}{dx}f(x)\n",
    "$$\n",
    "\n",
    "상수는 미분의 밖으로 나올 수 있습니다. k를 임의의 실수로 했을 때, 다음의 공식이 성립됩니다.\n",
    "\n",
    "$$\n",
    "\\frac{d}{dx}kf(x) = k \\frac{d}{dx}f(x)\n",
    "$$\n",
    "\n",
    "그럼 예로서 다음의 함수를 미분해봅시다.\n",
    "\n",
    "$$\n",
    "f(x) = 3x^2 + 4x -5\n",
    "$$\n",
    "\n",
    "이 함수는 위의 공식을 조합해서 다음과 같이 미분할 수 있습니다.\n",
    "\n",
    "$$\n",
    "f\\prime(x) = \\frac{d}{dx}(3x^2) + \\frac{d}{dx}(4x^1) + \\frac{d}{dx}(5x^0)\\\\\n",
    "= 3\\frac{d}{dx}(x^2) + 4\\frac{d}{dx}(x^1) + -5\\frac{d}{dx}(x^0)\\\\\n",
    "= 6x +4\n",
    "$$\n",
    "\n",
    "이상과 같이 공식을 조합함으로써 여러 가지 함수의 도함수를 구할 수 있습니다.\n"
   ]
  },
  {
   "cell_type": "markdown",
   "id": "5c72a16e",
   "metadata": {},
   "source": [
    "## 접선 그리기\n",
    "\n",
    "도함수를 사용해서 함수 $$f(x) = 3x^2 + 4x - 5, x = 1$$인 경우의 접선을 그립니다."
   ]
  },
  {
   "cell_type": "code",
   "execution_count": 3,
   "id": "550401b9",
   "metadata": {},
   "outputs": [
    {
     "data": {
      "image/png": "[encoded data removed]",
      "text/plain": [
       "<Figure size 640x480 with 1 Axes>"
      ]
     },
     "metadata": {},
     "output_type": "display_data"
    }
   ],
   "source": [
    "import numpy as np\n",
    "import matplotlib.pyplot as plt\n",
    "\n",
    "np.finfo(np.dtype(\"float32\"))\n",
    "np.finfo(np.dtype(\"float64\"))\n",
    "\n",
    "def my_func(x):\n",
    "    return 3*x**2 + 4*x -5\n",
    "\n",
    "def my_func_dif(x): # 도함수\n",
    "    return 6*x +4\n",
    "\n",
    "x = np.linspace(-3,3)\n",
    "y = my_func(x)\n",
    "\n",
    "a = 1\n",
    "y_t = my_func_dif(a)*x + my_func(a) - my_func_dif(a) *a\n",
    "# x=1일 때의 접선, 접선 식을 사용\n",
    "\n",
    "plt.plot(x,y,label=\"y\")\n",
    "plt.plot(x,y_t,label=\"y_t\")\n",
    "plt.legend()\n",
    "\n",
    "plt.xlabel(\"x\",size=14)\n",
    "plt.ylabel(\"y\",size=14)\n",
    "plt.grid()\n",
    "\n",
    "plt.show()"
   ]
  },
  {
   "cell_type": "markdown",
   "id": "8d1f486d",
   "metadata": {},
   "source": [
    "도함수를 사용해서 접선을 그릴 수 있었습니다. 인공지능에서는 이처럼 국소적인 기울기를 사용해서 각 파라미터 전체의 결과에 미치는 영향을 계산합니다."
   ]
  }
 ],
 "metadata": {
  "kernelspec": {
   "display_name": "Python 3 (ipykernel)",
   "language": "python",
   "name": "python3"
  },
  "language_info": {
   "codemirror_mode": {
    "name": "ipython",
    "version": 3
   },
   "file_extension": ".py",
   "mimetype": "text/x-python",
   "name": "python",
   "nbconvert_exporter": "python",
   "pygments_lexer": "ipython3",
   "version": "3.10.8"
  }
 },
 "nbformat": 4,
 "nbformat_minor": 5
}
