{
 "cells": [
  {
   "cell_type": "markdown",
   "id": "e06e2041",
   "metadata": {},
   "source": [
    "고윳값, 고유벡터는 행렬을 다룰 떄 자주 등장하는 중요한 개념입니다. 인공지능에서는 데이터를 요약하는 주성분 분석이라는 기법에 이용됩니다.\n",
    "\n",
    "## 고윳값, 고유벡터\n",
    "\n",
    "정방행렬(행수와 열수가 같은 행렬)A를 생각합시다.\n",
    "이 행렬 A에 대해서, 다음의 관계를 만족하는 스칼라 $$\\lambda$$를 행렬 A의 **고윳값**, 벡터 $$\\vec{x}$$를 행렬 A의 **고유벡터**라고 합니다.\n",
    "\n",
    "$$\n",
    "A\\vec{x} = \\lambda\\vec{x}\n",
    "$$"
   ]
  },
  {
   "cell_type": "markdown",
   "id": "8155f796",
   "metadata": {},
   "source": [
    "이 식으로 알 수 있듯이 고유벡터는 선형변환에 의해 각 요소가 고윳값 배가 되는 벡터입니다.\n",
    "\n",
    "예를 들어 다음과 같은 단위 행렬 E를 봅시다.\n",
    "\n",
    "$$\n",
    "E = \\begin{pmatrix}\n",
    "1&0\\\\\n",
    "0&1\n",
    "\\end{pmatrix}\n",
    "$$\n",
    "\n",
    "단위 행렬을 곱해도 벡터는 변화하지 않으므로 다음과 같이 표현할 수 있습니다.\n",
    "\n",
    "$$\n",
    "A\\vec{x} = \\lambda E \\vec{x}\n",
    "$$\n",
    "\n",
    "이 식의 우변을 좌변으로 이항하면 다음 식을 얻을 수 있습니다.\n",
    "\n",
    "$$\n",
    "(A - \\lambda E)\\vec{x} = \\vec{0}\n",
    "$$\n",
    "\n",
    "우변이 $$\\vec{0}$$이 되는데 이것은 요소가 전부 0인 벡터를 나타냅니다.\n",
    "\n",
    "여기서 행렬$$(A - \\lambda E)$$가 역행렬을 가진다고 하면 양 변에 왼쪽부터 역행렬 $$(A-\\lambda E)^{-1}$$ 을 곱해서\n",
    "\n",
    "$$\n",
    "\\vec{x} = (A - \\lambda E)^{-1} \\vec{0}\\\\\n",
    "= \\vec{0}\n",
    "$$\n",
    "\n",
    "가 되고 $$\\vec{x}$$ 는 $$\\vec{0}$$가 같게 됩니다.\n",
    "\n",
    "이 해는 특별히 흥미롭지 않으므로, 행렬$$(A - \\lambda E)$$가 역행렬을 가지지 않는 경우를 생각합시다.\n",
    "\n",
    "이때, 다음관계가 만족합니다.\n",
    "\n",
    "$$\n",
    "det(A - \\lambda E) = 0\n",
    "$$\n",
    "\n",
    "이것을 행렬 A의 **고유방적식**이라고 합니다."
   ]
  },
  {
   "cell_type": "markdown",
   "id": "e076bb24",
   "metadata": {},
   "source": [
    "## 고윳값, 고유벡터를 구한다.\n",
    "\n",
    "다음 행렬 A의 고윳값을 계산합니다.\n",
    "\n",
    "$$\n",
    "A = \\begin{pmatrix}\n",
    "3&1\\\\\n",
    "2&4\n",
    "\\end{pmatrix}\n",
    "$$\n",
    "\n",
    "고유방정식을 사용해 행렬 A의 고윳값을 다음과 같이 구할 수 있습니다.\n",
    "\n",
    "$$\n",
    "det(A - \\lambda E) = 0 \\\\\n",
    "det\\Bigg( \\begin{pmatrix} 3&1\\\\2&4 \\end{pmatrix} - \\lambda \\begin{pmatrix}1&0\\\\0&1 \\end{pmatrix} \\Bigg) = 0 \\\\\n",
    "det \\Bigg( \\begin{pmatrix} 3-\\lambda & 1 \\\\ 2 & 4 \\end{pmatrix}- \\lambda \\Bigg) = 0 \\\\\n",
    "(3-\\lambda)(4-\\lambda)-1 * 2 = 0 \\\\\n",
    "\\lambda^2 - 7\\lambda + 10 = 0\n",
    "(\\lambda-2)(\\lambda - 5) = 0\n",
    "$$"
   ]
  },
  {
   "cell_type": "markdown",
   "id": "39fab9d2",
   "metadata": {},
   "source": [
    "이 떄, 고윳값 $$\\lambda$$의 값은 2또는 5가 됩니다.\n",
    "\n",
    "다음에 고유벡터를 구합니다.\n",
    "\n",
    "다음에서는 $$\\lambda = 2$$ 인경우와 $$\\lambda = 5$$ 인 경우 , 두가지를 생각합니다.\n",
    "\n",
    "$$\\lambda = 2$$ 의 경우 , $$\\vec{x}$$를 다음과 같이 두면\n",
    "\n",
    "$$\n",
    "\\vec{x} = \\begin{pmatrix}p \\\\ q \\end{pmatrix}\n",
    "$$\n",
    "\n",
    "고유벡터는 다음과 같이 구할 수 있습니다.\n",
    "\n"
   ]
  },
  {
   "cell_type": "markdown",
   "id": "421377a2",
   "metadata": {},
   "source": [
    "$$\n",
    "(A-2E) \\begin{pmatrix}p \\\\ q \\end{pmatrix} = \\vec{0}\\\\\n",
    "\\begin{pmatrix}3-2&1\\\\2&4-2\\end{pmatrix} \\begin{pmatrix}p\\\\q \\end{pmatrix} = \\vec{0} \\\\\n",
    "\\begin{pmatrix}1&1\\\\2&2\\end{pmatrix} \\begin{pmatrix}p\\\\q \\end{pmatrix} = \\vec{0} \\\\\n",
    "\\begin{pmatrix}p+q\\\\2p+2q \\end{pmatrix} = \\vec{0}\n",
    "$$\n",
    "\n",
    "\n",
    "이 떄,$$p+q = 0$$입니다\n",
    "\n",
    "이 조건을 만족하는 다음과 같은 벡터가 $$\\lambda = 2$$ 인 경우, A의 고유벡터가 됩니다. t는 임의의 실수입니다.\n",
    "\n",
    "$$\n",
    "\\vec{x} = \\begin{pmatrix}t\\\\-t \\end{pmatrix}\n",
    "$$\n",
    "\n",
    "$$\\lambda = 5$$인 경우, 마찬가지로 해서 $$2p - q = 0$$가 되는걸 확인할 수 있습니다.\n",
    "이 조건을 만족하는 다음과 같은 벡터가 $$\\lambda = 5$$인 경우, A의 고유벡터가 됩니다. t는 임의의 실수입니다.\n",
    "$$\n",
    "\\vec{x} = \\begin{pmatrix}t\\\\2t \\end{pmatrix}\n",
    "$$"
   ]
  },
  {
   "cell_type": "markdown",
   "id": "a8d494f7",
   "metadata": {},
   "source": [
    "## 고윳값과 고유벡터의 계산\n",
    "\n",
    "numpy의 **linalg.eig()** 함수에 의해 고윳값과 고유벡터를 동시에 구할 수 있습니다.\n",
    "\n"
   ]
  },
  {
   "cell_type": "code",
   "execution_count": 2,
   "id": "d577afa0",
   "metadata": {},
   "outputs": [
    {
     "name": "stdout",
     "output_type": "stream",
     "text": [
      "[2. 5.]\n",
      "\n",
      "[[-0.70710678 -0.4472136 ]\n",
      " [ 0.70710678 -0.89442719]]\n"
     ]
    }
   ],
   "source": [
    "import numpy as np\n",
    "\n",
    "a = np.array([[3,1],[2,4]])\n",
    "\n",
    "ev = np.linalg.eig(a) # 고윳값과 고유벡터를 동시에 구한다.\n",
    "\n",
    "print(ev[0]) # 첫요소는 고윳값\n",
    "\n",
    "print()\n",
    "\n",
    "print(ev[1]) # 다음 요소는 고유벡터"
   ]
  },
  {
   "cell_type": "markdown",
   "id": "d4d94cdf",
   "metadata": {},
   "source": [
    "**linalg.eig()** 함수의 결과는 두 개의 배열로 처음 배열이 고윳값을 포함, 다음의 배열이 고유벡터를 포함합니다. \n",
    "\n",
    "위 코드에서는 두 개의 고윳값을 구할 수 있었습니다.\n",
    "\n",
    "고유벡터는 행렬로서 얻을 수 있었습니다. 이 행렬이 각 **열**이 고유벡터를 나타냅니다.\n",
    "\n",
    "이 경우 각 고유벡터는 $$L^2$$놈이 1이 됩니다. 이러한 $$L^2$$놈이 1인 벡터를 **단위 벡터**라고 합니다. \n",
    "\n",
    "numpy의 **linalg.eig()** 함수는 고유벡터를 단위 벡터의 형태로 반환합니다."
   ]
  }
 ],
 "metadata": {
  "kernelspec": {
   "display_name": "Python 3 (ipykernel)",
   "language": "python",
   "name": "python3"
  },
  "language_info": {
   "codemirror_mode": {
    "name": "ipython",
    "version": 3
   },
   "file_extension": ".py",
   "mimetype": "text/x-python",
   "name": "python",
   "nbconvert_exporter": "python",
   "pygments_lexer": "ipython3",
   "version": "3.10.8"
  }
 },
 "nbformat": 4,
 "nbformat_minor": 5
}
