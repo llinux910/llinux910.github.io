{
 "cells": [
  {
   "cell_type": "markdown",
   "id": "8804adcc",
   "metadata": {},
   "source": [
    "연쇄 법칙에 의해 합성함수의 미분을 할 수 있습니다. 연쇄 법칙은 인공지능의 일종인 뉴럴 네트워크의 학습에 사용합니다.\n",
    "\n",
    "## 합성함수\n",
    "\n",
    "연쇄 법칙을 다루기 전에 **합성함수**를 설명합니다. 합성함수란\n",
    "\n",
    "$$\n",
    "y = f(u)\\\\\n",
    "u = g(x)\n",
    "$$\n",
    "\n",
    "와 같이 여러 개 함수의 합성으로 표현되는 함수입니다.\n",
    "예를 들어, 함수 $$y = (x^2+1)^3$$는 다음과 같은 $$u$$를 끼운 합성함수라고 생각할 수 있습니다.\n",
    "\n",
    "$$\n",
    "y = u^3\\\\\n",
    "u = x^2+1\n",
    "$$\n",
    "\n"
   ]
  },
  {
   "cell_type": "markdown",
   "id": "4a28004c",
   "metadata": {},
   "source": [
    "## 연쇄 법칙\n",
    "\n",
    "합성함수의 미분은 구성하는 각 함수의 도함수의 곱으로 나타낼 수 있습니다. 이를 **연쇄법칙** 이라고 합니다.\n",
    "\n",
    "연쇄법칙은 다음의 식으로 표현됩니다.\n",
    "\n",
    "$$\n",
    "\\frac{dy}{dx} = \\frac{dy}{dx}\\frac{dy}{dx}\n",
    "$$\n",
    "\n",
    "y가 u의 함수, u가 x의 함수일 떄 , 위의 공식을 이용해서 y를x로 미분할 수 있습니다.\n",
    "\n",
    "예로서 다음의 함수를 미분해봅시다.\n",
    "\n",
    "$$\n",
    "y = (x^3 + 2x^2 + 3x +4)^3\n",
    "$$\n",
    "\n",
    "이 식에서의 u를 다음과 같이 설정합니다.\n",
    "\n",
    "$$\n",
    "u = x^3 + 2x^2 + 3x + 4\n",
    "$$\n",
    "\n",
    "이로써 y를 다음과 같이 나타낼 수 있습니다.\n",
    "\n",
    "$$\n",
    "\\frac{dy}{dx} = \\frac{dy}{dx}\\frac{dy}{dx}\\\\\n",
    "= 3u^2(3x^2+4x+3)\\\\\n",
    "= 3(x^3+2x^2+3x+4)^2(3x^2+4x+3)\n",
    "$$\n",
    "\n",
    "도함수를 구할 수 있었습니다. 이와 같이 합성함수는 연쇄 법칙을 이용함으로써 미분할 수 있습니다.\n",
    "\n"
   ]
  },
  {
   "cell_type": "markdown",
   "id": "3ca8ebf5",
   "metadata": {},
   "source": [
    "## 연쇄 법칙의 증명\n",
    "\n",
    "연쇄 법칙을 증명합니다.\n",
    "\n",
    "엄밀한 증명은 아니지만, 연쇄 법칙의 이미지를 파악하는 것이 중요합니다.\n",
    "$$y=f(u), u=g(x)$$로 했을 떄, y의 x에 의한 도함수는 다음과 같습니다.\n",
    "\n",
    "$$\n",
    "\\frac{dy}{dx} = \\lim_{\\Delta x \\to 0} \\frac{f(g(x+\\Delta x)) - f(g(x))}{\\Delta x} \\\\\n",
    "= \\lim_{\\Delta x \\to 0} (\\frac{f(g(x+\\Delta x)) - f(g(x))}{g(x + \\Delta x) - g(x)} \\cdot \\frac{g(x + \\Delta x) - g(x)}{\\Delta x})\n",
    "$$\n",
    "\n",
    "여기서 $$\\Delta y = (x + \\Delta x ) - g(x) $$로 해두면 $$\\Delta x \\to 0$$ 일 떄, $$\\Delta u \\to 0$$ 이므로 다음과 같이 연쇄율이 도출됩니다.\n",
    "\n",
    "$$\n",
    "\\frac{dy}{dx} = \\lim_{\\Delta \\to 0} ( \\frac{f(u + \\Delta u) - f(u)}{\\Delta u } \\cdot \\frac{\\Delta u}{\\Delta x})\\\\\n",
    "= \\lim_{\\Delta u \\to 0} (\\frac{f(u+\\Delta u) - f(u)}{\\Delta u} \\cdot \\lim_{\\Delta x \\to 0} \\frac{\\Delta u}{\\Delta x})\n",
    "$$"
   ]
  },
  {
   "cell_type": "markdown",
   "id": "a8d41733",
   "metadata": {},
   "source": [
    "> 연쇄법칙의 증명\n",
    ">> 연쇄 법칙을 엄밀하게 증명하기 위해서는 위에 적은 $$\\Delta u = g(x + \\Delta x ) - g(x)$$ 가 어떤 구간에서 0이 되어 비리는 경우도 고려해야 합니다. 이 경우, 분모가 0이 되는 문제에 대처해야 합니다."
   ]
  }
 ],
 "metadata": {
  "kernelspec": {
   "display_name": "Python 3 (ipykernel)",
   "language": "python",
   "name": "python3"
  },
  "language_info": {
   "codemirror_mode": {
    "name": "ipython",
    "version": 3
   },
   "file_extension": ".py",
   "mimetype": "text/x-python",
   "name": "python",
   "nbconvert_exporter": "python",
   "pygments_lexer": "ipython3",
   "version": "3.10.8"
  }
 },
 "nbformat": 4,
 "nbformat_minor": 5
}
