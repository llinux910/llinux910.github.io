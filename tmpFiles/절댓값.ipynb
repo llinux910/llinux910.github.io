{
 "cells": [
  {
   "cell_type": "markdown",
   "id": "304bc6e7",
   "metadata": {},
   "source": [
    "# 절대값\n",
    "\n",
    "절댁밧은 값과 0사이의 거리를 나타냅니다. 인공지능에서 0(제로)을 중심으로 한 값의 퍼짐 상태를 파악하기 위해서 사용되는 경우가 있습니다.\n",
    "\n",
    "## 절대값 의미\n",
    "절댁밧은 값의 양,음을 무시하고 얻을 수 있는 음이 아닌 값을 말합니다. 음수의 절대값은 그 값에서 음의 부호를 뺸 것입니다. 양수의 절대값은 그 값 그대로입니다. 값 x의 절대값은 |x|로 표기되는데 다음과 같이 구할 수 있습니다.\n",
    "\n",
    "$$ |x| = \\begin{cases} -x \\quad(x<0) \\\\ x\\quad (x \\geq 0 \\end{cases} $$"
   ]
  },
  {
   "cell_type": "markdown",
   "id": "46fb5230",
   "metadata": {},
   "source": [
    "다음은 절대값의 예입니다.\n",
    "\n",
    "$$\n",
    "|-5|\\quad =\\quad 5 \\\\\n",
    "|5| \\quad= \\quad5 \\\\\n",
    "|-1.28|\\quad = \\quad 1.28\\\\\n",
    "|\\sqrt5 | \\quad = \\quad \\sqrt 5\\\\\n",
    "|-\\frac{\\pi}{2}|\\quad = \\quad \\frac{\\pi}{2}\n",
    "$$"
   ]
  },
  {
   "cell_type": "markdown",
   "id": "18ddbbfa",
   "metadata": {},
   "source": [
    "절대값은 numpy의 **abs()** 함수르 ㄹ사용해 구할 수 있습니다. 아래 코드는 리스트에 저장한 여러 가지 값의 절대값을 **abs()** 함수를 사용해 한 번에 구하고 있습니다."
   ]
  },
  {
   "cell_type": "code",
   "execution_count": 1,
   "id": "baec6123",
   "metadata": {},
   "outputs": [
    {
     "name": "stdout",
     "output_type": "stream",
     "text": [
      "[5.         5.         1.28       2.23606798 1.57079633]\n"
     ]
    }
   ],
   "source": [
    "import numpy as np\n",
    "\n",
    "x = [-5,5,-1.28,np.sqrt(5),-np.pi/2]\n",
    "# 여러 값을 리스트에 저장한다\n",
    "print(np.abs(x)) # 절대값을 구한다."
   ]
  },
  {
   "cell_type": "markdown",
   "id": "e419afcc",
   "metadata": {},
   "source": [
    "양수는 그대로 양수이지만 음수는 양수로 변환되어 있는 것을 확인할 수 있습니다.\n",
    "\n",
    "## 함수의 절대값\n",
    "\n",
    "절대값의 이미지를 파악하기 위해서 함수의 절대값을 구해서 그래프로 표시합니다.\n",
    "아래 코드는 **sin()** 함수와 **cos()** 함수의 절대값을 구해서 그래프로 표시합니다.\n",
    "\n"
   ]
  },
  {
   "cell_type": "code",
   "execution_count": 4,
   "id": "de7b3f0d",
   "metadata": {},
   "outputs": [
    {
     "data": {
      "image/png": "[encoded data removed]",
      "text/plain": [
       "<Figure size 432x288 with 1 Axes>"
      ]
     },
     "metadata": {
      "needs_background": "dark"
     },
     "output_type": "display_data"
    }
   ],
   "source": [
    "import numpy as np\n",
    "import matplotlib.pyplot as plt\n",
    "\n",
    "x = np.linspace(-np.pi,np.pi) # -파이 부터 파이 까지\n",
    "y_sin = np.abs(np.sin(x)) # sin() 함수의 절대값을 취한다\n",
    "y_cos = np.abs(np.cos(x)) # cos() 함수의 절대값을 취한다.\n",
    "\n",
    "np.finfo(np.dtype(\"float64\"))\n",
    "plt.scatter(x,y_sin,label=\"sin\")\n",
    "plt.scatter(x,y_cos,label=\"cos\")\n",
    "plt.tick_params(axis='x', colors='white')\n",
    "plt.tick_params(axis='y', colors='white')\n",
    "plt.xlabel(\"x\",size=14,color='white')\n",
    "plt.ylabel(\"y\",size=14,color='white')\n",
    "plt.grid()\n",
    "plt.show()"
   ]
  },
  {
   "cell_type": "markdown",
   "id": "c77531e3",
   "metadata": {},
   "source": [
    "삼각함수에서 음의 영역이 반전하고 있습니다.\n",
    "\n",
    "이것은 삼각함수의 \"0으로부터의 거리\"라고 파악할 수 있습니다.\n",
    "\n",
    "위의 그래프로 알수 있듯이 절대값을 사용함으로써 값의 양,음 여부에 관계없이\n",
    "\n",
    "0으로부터의 떨어진 정도를 파악할 수 있습니다."
   ]
  }
 ],
 "metadata": {
  "kernelspec": {
   "display_name": "Python 3 (ipykernel)",
   "language": "python",
   "name": "python3"
  },
  "language_info": {
   "codemirror_mode": {
    "name": "ipython",
    "version": 3
   },
   "file_extension": ".py",
   "mimetype": "text/x-python",
   "name": "python",
   "nbconvert_exporter": "python",
   "pygments_lexer": "ipython3",
   "version": "3.10.5"
  }
 },
 "nbformat": 4,
 "nbformat_minor": 5
}
