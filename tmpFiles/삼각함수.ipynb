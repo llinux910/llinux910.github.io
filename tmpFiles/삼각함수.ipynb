{
 "cells": [
  {
   "cell_type": "markdown",
   "id": "223fc8d0",
   "metadata": {},
   "source": [
    "# 삼각함수\n",
    "삼각함수를 이용함으로써 주기적이며 매끄럽게 변화하는 값을 다룰 수 있습니다.\n",
    "\n",
    "## 삼각함수 공식\n",
    "아래와 같은 직각삼각형을 살펴봅시다.\n",
    "\n",
    "![](data:image/png;base64,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)\n",
    "\n"
   ]
  },
  {
   "cell_type": "markdown",
   "id": "831e1157",
   "metadata": {},
   "source": [
    "직각을 낀 변이 a,b이고 직각의 맞은편 변이 c입니다. 그리고 변 a,c의 사이각이$$\\theta$$ 입니다."
   ]
  },
  {
   "cell_type": "markdown",
   "id": "21fcbe06",
   "metadata": {},
   "source": [
    "이 삼각형으로 각도 $$\\theta$$와 각 변의 관계를 다음과 같이 정의합니다.\n",
    "\n",
    "$$\n",
    "\\sin\\theta = \\frac{b}{c} ,   \\cos\\theta = \\frac{a}{c} ,   \\tan\\theta = \\frac{b}{a}\n",
    "$$"
   ]
  },
  {
   "cell_type": "markdown",
   "id": "b5a905ba",
   "metadata": {},
   "source": [
    "$$\\sin\\theta, \\cos\\theta, \\tan\\theta$$를 **삼각함수**라고 합니다. sin은 사인, cos는 코사인, tan은 탄젠트라고 읽습니다. 삼각함수는 다음의 관계를 만족합니다.\n",
    "\n",
    "$$\n",
    "(\\sin\\theta)^2 + (\\cos\\theta)^2 = 1\\\\\n",
    "\\tan\\theta = \\frac{\\cos\\theta}{\\sin\\theta}\n",
    "$$\n",
    "\n",
    "또한, 각도 $$\\theta$$의 단위는 라디안을 자주 사용합니다. $$\\pi$$(=3.14159) 라디안이 $$\\angle$$180 에 해당합니다. 예를들어 $$\\angle$$90은 $$\\frac{\\pi}{2}$$라디안 입니다."
   ]
  },
  {
   "cell_type": "code",
   "execution_count": null,
   "id": "89ae639f",
   "metadata": {},
   "outputs": [],
   "source": []
  }
 ],
 "metadata": {
  "kernelspec": {
   "display_name": "Python 3 (ipykernel)",
   "language": "python",
   "name": "python3"
  },
  "language_info": {
   "codemirror_mode": {
    "name": "ipython",
    "version": 3
   },
   "file_extension": ".py",
   "mimetype": "text/x-python",
   "name": "python",
   "nbconvert_exporter": "python",
   "pygments_lexer": "ipython3",
   "version": "3.10.5"
  }
 },
 "nbformat": 4,
 "nbformat_minor": 5
}
