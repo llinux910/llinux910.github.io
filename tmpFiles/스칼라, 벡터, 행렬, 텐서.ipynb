{
 "cells": [
  {
   "cell_type": "markdown",
   "id": "3902acbd",
   "metadata": {},
   "source": [
    "# 스칼라, 벡터, 행렬, 텐서\n",
    "\n",
    "여러 개의 데이터를 하나로 묶어 다루는 방법을 알아봅니다. 인공지능에서 많은 양의 대이터를 다루기 때문에 스칼라, 벡터, 행렬, 텐서는 중요한 개념입니다.\n",
    "\n",
    "## 스칼라\n",
    "\n",
    "스칼라(scalar)는 1,5,1.2,-7 등의 보통의 수치를 말합니다. 이 책에서는 수식에서의 알파벳, 또는 그리스 문자의 소문자는 스칼라를 나타내는 것으로 합니다.\n",
    "\n",
    "- 스칼라의 표시 예 : $$a, \\gamma, p$$\n",
    "\n",
    "## 스칼라의 구현\n",
    "\n",
    "python에서 다루는 보통의 수치는 이 스칼라에 대응합니다. 아래코드는 스칼라의 예입니다.\n"
   ]
  },
  {
   "cell_type": "code",
   "execution_count": 1,
   "id": "c97622c5",
   "metadata": {},
   "outputs": [],
   "source": [
    "a = 1\n",
    "b = 1.2\n",
    "c = -0.25\n",
    "d = 1.2e5 # 1.2*(10의 5제곱) 120000"
   ]
  },
  {
   "cell_type": "markdown",
   "id": "d32915ff",
   "metadata": {},
   "source": [
    "## 벡터\n",
    "\n",
    "벡터는 스칼라를 직선 상에 나열한 것입니다. 알파벳의 소문자에 화살표를 올린 것으로 벡터를 나타냅니다. 다음은 벡터의 표기 예입니다.\n",
    "\n",
    "$$\n",
    "\\vec{a} = \\begin{cases}1 \\\\2\\\\3 \\end{cases} \\\\\n",
    "\\vec{b} = (-2.4,0.25,-1.3,1.8,0.61) \\\\\n",
    "\\vec{p} = \\begin{cases}p_1 \\\\ p_2 \\\\ ... \\\\ p_m \\end{cases} \\\\\n",
    "\\vec{q} = (q_1,q_2,...,q_n)\n",
    "$$\n",
    "\n",
    "벡터에는 위의 $$\\vec{a},\\vec{p}$$ 와 같이 세로로 수치를 나열하는 세로 벡터와 $$\\vec{b},\\vec{q}$$ 처럼 가로로 수치를 나열하는 가로 벡터가 있습니다.\n",
    "\n",
    "앞으로 가로 벡터를 주로 사용하므로 단지 벡터라고 기술할 떄는 가로 벡터를 나타내는 것으로 합니다. \n",
    "\n",
    "또한 $$\\vec{p},\\vec{q}$$로 볼수있듯이 벡터의 요소를 변수로 나타낼 때의 첨자 수는 1개입니다.\n",
    "\n",
    "## 벡터의 구현\n",
    "\n",
    "벡터는 numpy의 1차원 배열을 이용해 아래와 같이 나타낼 수 있습니다."
   ]
  },
  {
   "cell_type": "code",
   "execution_count": 2,
   "id": "7fe09561",
   "metadata": {},
   "outputs": [
    {
     "name": "stdout",
     "output_type": "stream",
     "text": [
      "[1 2 3]\n",
      "[-2.4   0.25 -1.3   1.8   0.61]\n"
     ]
    }
   ],
   "source": [
    "import numpy as np\n",
    "\n",
    "a = np.array([1,2,3]) # 1차원 배열로 벡터를 나타낸다.\n",
    "print(a)\n",
    "\n",
    "b = np.array([-2.4,0.25,-1.3,1.8,0.61])\n",
    "print(b)"
   ]
  },
  {
   "cell_type": "markdown",
   "id": "88143919",
   "metadata": {},
   "source": [
    "수치가 직선 상에 나열되어 있는 걸 확인할 수 있습니다.\n",
    "\n",
    "## 행렬\n",
    "\n",
    "행렬은 스칼라를 격자 형태로 나열한 것으로 예를 들어 다음과 같이 표기합니다.\n",
    "\n",
    "$$\n",
    "\\begin{pmatrix}\n",
    "0.12 & -0.34 & 1.3 & 0.81\\\\\n",
    "-1.4 & 0.25 & 0.69 & -0.41\\\\\n",
    "0.25 & -1.5 & -0.15 & 1.1\n",
    "\\end{pmatrix}\n",
    "$$\n",
    "\n",
    "행렬에서 수평 방향의 스칼라의 나열을 **행**, 수직 방향의 스칼라의 나열을 **열**이라고 합니다.\n",
    "\n",
    "행렬에서 행과 열을 아래와 같이 나타냅니다.\n",
    "\n",
    "![](data:image/png;base64,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)"
   ]
  },
  {
   "cell_type": "markdown",
   "id": "a5dd6ffe",
   "metadata": {},
   "source": [
    "행은 위에서부터 첫번쨰, 두번쨰, 새번쨰 , ... 로 셉니다. \n",
    "\n",
    "열은 왼쪽부터 첫번쨰 열, 두번쨰 열, 세 번쨰 열, ...로 셉니다\n",
    "\n",
    "또한 행이 m개, 열이 n개 나열하는 행렬을 m * n 행렬로 표현합니다.\n",
    "\n",
    "따라서 위의 행렬은 3 *4 행렬 입니다.\n",
    "\n",
    "$$\n",
    "\\begin{pmatrix}\n",
    "0.12 \\\\\n",
    "-1.4 \\\\\n",
    "0.25\n",
    "\\end{pmatrix}\n",
    "$$\n",
    "\n",
    "$$\n",
    "\\begin{pmatrix}\n",
    "-0.12 & -0.34 & 1.3 & 0.81\n",
    "\\end{pmatrix}\n",
    "$$\n",
    "\n",
    "또한, 위와 같이 세로 벡터는 열의 수가 1인 행렬로, 가로 벡터는 행의 수가 1인 행렬로 생각할 수도 있습니다.\n",
    "\n",
    "\n",
    "$$\n",
    "A = \\begin{pmatrix}\n",
    "0 & 1 & 2 \\\\\n",
    "3 & 4 & 5\n",
    "\\end{pmatrix}\n",
    "$$\n",
    "\n",
    "\n",
    "$$\n",
    "P = \\begin{pmatrix}\n",
    "p_{11} & p_{12} & \\cdots & p_{1n}\\\\\n",
    "p_{21} & p_{22} & \\cdots & p_{2n}\\\\\n",
    "\\vdots & \\vdots & \\ddots & \\vdots \\\\\n",
    "p_{m1} & p_{m2} & \\cdots & p_{mn}\n",
    "\\end{pmatrix}\n",
    "$$\n",
    "\n",
    "수식에 행렬을 표현할 떄 알파벳 대문자 이텔릭체로 나타냅니다 행렬 A는 2 * 3인 행렬, 행렬 P는 m * n인 행렬입니다.\n",
    "\n",
    "또한 , P를 보면 알 수 있듯이 행렬의 요소를 변수로 나타낼 떄의 첨자 수는 2개입니다.\n",
    "\n",
    "## 행렬의 구현\n",
    "\n",
    "bumpy의 2차원 배열을 이용하면 아래와 같이 행렬을 표현할 수 있습니다.\n"
   ]
  },
  {
   "cell_type": "code",
   "execution_count": 4,
   "id": "765b5d5e",
   "metadata": {},
   "outputs": [
    {
     "name": "stdout",
     "output_type": "stream",
     "text": [
      "[[1 2 3]\n",
      " [4 5 6]]\n",
      "[[ 0.21  0.14]\n",
      " [-1.3   0.81]\n",
      " [ 0.12 -2.11]]\n"
     ]
    }
   ],
   "source": [
    "import numpy as np\n",
    "\n",
    "a = np.array([[1,2,3],\n",
    "             [4,5,6]]) # 2*x의 행렬\n",
    "\n",
    "print(a)\n",
    "\n",
    "b = np.array([[0.21, 0.14],\n",
    "              [-1.3, 0.81],\n",
    "              [0.12, -2.11]]) # 3*2의 행렬\n",
    "\n",
    "print(b)"
   ]
  },
  {
   "cell_type": "markdown",
   "id": "b3639cc2",
   "metadata": {},
   "source": [
    "수치가 격자 형태로 나열된 걸 확인할 수 있습니다.\n",
    "\n",
    "## 텐서\n",
    "\n",
    "텐서는 스칼라를 여러 개의 차원으로 나열한 것으로 스칼라,벡터,행렬을 포함합니다.\n",
    "\n",
    "텐서의 개념을 아래와같이 나타냅니다.\n",
    "\n",
    "![](data:image/png;base64,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)"
   ]
  },
  {
   "cell_type": "markdown",
   "id": "f6317b1a",
   "metadata": {},
   "source": [
    "각 요소에 붙은 첨자의 수를 그 텐서의 차원수라고 말합니다.\n",
    "\n",
    "스칼라에는 첨자가 없으므로 0차원 텐서\n",
    "\n",
    "벡터는 첨자가 1개이므로 1차원 텐서\n",
    "\n",
    "행렬은 첨자가 2개이므로 2차원 텐서 입니다.\n",
    "\n",
    "더욱 고차원인 것은 3차원 텐서, 4차원텐서, ... 가 됩니다.\n",
    "\n",
    "## 텐서의 구현\n",
    "\n",
    "numpy의 다차원 배열을 이용하면 아래와 같이 3차원 텐서를 구현할 수 있습니다.\n"
   ]
  },
  {
   "cell_type": "code",
   "execution_count": 7,
   "id": "60deb4f0",
   "metadata": {},
   "outputs": [
    {
     "name": "stdout",
     "output_type": "stream",
     "text": [
      "[[[0 1 2 3]\n",
      "  [2 3 4 5]\n",
      "  [4 5 6 7]]\n",
      "\n",
      " [[1 2 3 4]\n",
      "  [3 4 5 6]\n",
      "  [5 6 7 8]]]\n"
     ]
    }
   ],
   "source": [
    "import numpy as np\n",
    "\n",
    "a = np.array([[[0,1,2,3],\n",
    "              [2,3,4,5],\n",
    "              [4,5,6,7]],            \n",
    "             [[1,2,3,4],\n",
    "             [3,4,5,6],\n",
    "             [5,6,7,8]]]) # (2,3,4)의 3차원 텐서\n",
    "\n",
    "print(a)"
   ]
  }
 ],
 "metadata": {
  "kernelspec": {
   "display_name": "Python 3 (ipykernel)",
   "language": "python",
   "name": "python3"
  },
  "language_info": {
   "codemirror_mode": {
    "name": "ipython",
    "version": 3
   },
   "file_extension": ".py",
   "mimetype": "text/x-python",
   "name": "python",
   "nbconvert_exporter": "python",
   "pygments_lexer": "ipython3",
   "version": "3.10.5"
  }
 },
 "nbformat": 4,
 "nbformat_minor": 5
}
