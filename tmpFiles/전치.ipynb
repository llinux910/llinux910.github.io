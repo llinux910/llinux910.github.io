{
 "cells": [
  {
   "cell_type": "markdown",
   "id": "6cc47e6b",
   "metadata": {},
   "source": [
    "전치에 의해 행렬의 행과 열을 바꿉니다. 인공지능의 코드에서는 전치를 자주 사용합니다.\n",
    "\n",
    "## 전치\n",
    "\n",
    "행렬에 대한 중요한 조작으로 전치가 있습니다. 행렬을 전치함으로써 행과 열이 바뀝니다. 다음은 전치의 예인데, \n",
    "\n",
    "예를 들어 행렬 A의 전치 행렬은 $$A^T$$ 로 나타냅니다."
   ]
  },
  {
   "cell_type": "markdown",
   "id": "fabb3ff3",
   "metadata": {},
   "source": [
    "$$\n",
    "A = \\begin{pmatrix}1 & 2 & 3\\\\\n",
    "4 & 5 & 6\\\\ \n",
    "\\end{pmatrix}\n",
    "$$\n",
    "\n",
    "$$\n",
    "A^T = \\begin{pmatrix}1 & 4\\\\\n",
    "2 & 5\\\\\n",
    "3 & 6\\\\\n",
    "\\end{pmatrix}\n",
    "$$\n",
    "\n",
    "\n",
    "$$\n",
    "B = \\begin{pmatrix}\n",
    "a & b\\\\\n",
    "c & d\\\\\n",
    "e & f\\\\\n",
    "\\end{pmatrix}\n",
    "$$\n",
    "\n",
    "$$\n",
    "B^T = \\begin{pmatrix}\n",
    "a & b & c\\\\\n",
    "d & e & f\\\\ \n",
    "\\end{pmatrix}\n",
    "$$\n",
    "\n",
    "## 전치의 구현\n",
    "\n",
    "Numpy에서는 행렬을 나타내는 밸열명의 뒤에 **.T**를 붙이면 전치됩니다.\n"
   ]
  },
  {
   "cell_type": "code",
   "execution_count": 1,
   "id": "b648cfc2",
   "metadata": {},
   "outputs": [
    {
     "name": "stdout",
     "output_type": "stream",
     "text": [
      "[[1 4]\n",
      " [2 5]\n",
      " [3 6]]\n"
     ]
    }
   ],
   "source": [
    "import numpy as np\n",
    "\n",
    "a = np.array([[1,2,3],\n",
    "              [4,5,6]\n",
    "             ]) # 행렬\n",
    "\n",
    "print(a.T) # 전치"
   ]
  },
  {
   "cell_type": "markdown",
   "id": "31f3aed5",
   "metadata": {},
   "source": [
    "행렬의 행과 열이 바뀐 걸 확인할 수 있습니다."
   ]
  },
  {
   "cell_type": "markdown",
   "id": "be2865d1",
   "metadata": {},
   "source": [
    "## 행렬곱과 전치\n",
    "\n",
    "행렬곱에 대해서는 기본적으로 앞 행렬의 열수와 뒤 행렬의 행수가 일치해야 합니다. \n",
    "그렇지만 일치하지 않아도 전치에 의해 행렬곱을 할 수 있는 경우가 있습니다.\n",
    "\n",
    "\n",
    "## 전치와 행렬곱의 구현\n",
    "\n",
    "numpy의 배열을 전치하고, 행렬곱을 계산하는 예입니다. 배열명의 뒤에 **.T**를 붙이면 전치 행렬이 됩니다.\n"
   ]
  },
  {
   "cell_type": "code",
   "execution_count": 1,
   "id": "631916f2",
   "metadata": {},
   "outputs": [
    {
     "name": "stdout",
     "output_type": "stream",
     "text": [
      "[[ 5  8]\n",
      " [ 8 14]]\n"
     ]
    }
   ],
   "source": [
    "import numpy as np\n",
    "\n",
    "a  = np.array([[0,1,2],\n",
    "              [1,2,3]]) # 2x3 행렬\n",
    "b = np.array([[0,1,2],\n",
    "             [1,2,3]]) # 2x3의 행렬 이대로는 행렬곱을 할 수 없다.\n",
    "\n",
    "#print(np.dot(a,b)) # 전치하지 않고 행렬곱을 취하면 에러\n",
    "print(np.dot(a,b.T)) # 전치에 의해 행렬곱이 가능해짐\n",
    "\n",
    "\n",
    "    "
   ]
  },
  {
   "cell_type": "markdown",
   "id": "994bb078",
   "metadata": {},
   "source": [
    "위의 코드에서는 행렬b를 전치함으로써 행수가 3이되며, 행렬 a의 열수와 일치하므로 행렬곱을 할 수 있게 됩니다."
   ]
  }
 ],
 "metadata": {
  "kernelspec": {
   "display_name": "Python 3 (ipykernel)",
   "language": "python",
   "name": "python3"
  },
  "language_info": {
   "codemirror_mode": {
    "name": "ipython",
    "version": 3
   },
   "file_extension": ".py",
   "mimetype": "text/x-python",
   "name": "python",
   "nbconvert_exporter": "python",
   "pygments_lexer": "ipython3",
   "version": "3.10.7"
  }
 },
 "nbformat": 4,
 "nbformat_minor": 5
}
