{
 "cells": [
  {
   "cell_type": "markdown",
   "id": "16ffba30",
   "metadata": {},
   "source": [
    "# 인터넷이란?\n",
    "\n",
    "\n",
    "## 인터넷 개요\n",
    "\n",
    "인터넷은 인터넷 프로토콜 스위트(TCP/IP)를 기반으로 하여 전 세계적으로 연결되어 있는 컴푸터 네트워크 통신망을 일컫는 말이다. \n",
    "\n",
    "그야말로 인류 역사상 전례 없는 거대한 정보의 바다인셈이다.\n",
    "\n",
    "인터넷하면 흔히 웹이라고 줄여 부르는 월드 와이드 웹만을 생각하기 쉽지만\n",
    "\n",
    "인터넷은 월드와이드웹,전자메일,파일공유(토렌트 등) 등\n",
    "\n",
    "다양한 서비스들을 포함한다.\n",
    "\n",
    "\n",
    "\n",
    "\n",
    "## 인터넷 구성요소\n",
    "\n",
    "인터넷은 세 가지 부분으로 나뉘어짐.\n",
    "\n",
    "### **The last mile** \n",
    "\n",
    "라스트 마일은 여러 분야에서 사용되는 단어인데.\n",
    "\n",
    "여기선 인터넷 사용자에게 최종적으로 데이터를 전달해주는 구간을 라스트 마일이라고 한다.\n",
    "\n",
    "휴대폰에서 인터넷접속할떄 거치는 기지국이 여기에 해당한다.\n",
    "\n",
    "혹은 ISP(internet service provide (ex:kt,sk )에 접속되는 구간.\n",
    "\n",
    "\n",
    "\n",
    "### **Data centers**\n",
    "\n",
    "인터넷과 연결된 데이터를 모아두는 시설, 통신 기기인 라우터와 수많은 서버, 그리고 안정적 전원 공급을위한 UPS등으로 구성된다.\n",
    "\n",
    "서버의 호텔이라는 표현도 사용함.\n",
    "\n",
    "\n",
    "### **the backbone** \n",
    "\n",
    "속칭 기간망이라고 불리는 것으로,\n",
    "\n",
    "여러 소형 네트워크들을 묶어 대규모 파이프라인을 통해 \n",
    "\n",
    "극도로 높은 대역폭으로 \n",
    "\n",
    "다른 네트워크들의 집합과 연결되는 네트워크(대규모 패킷 통신망)을 백본이라고 부른다.\n",
    "\n",
    "![](https://img1.daumcdn.net/thumb/R1280x0/?scode=mtistory2&fname=https%3A%2F%2Fblog.kakaocdn.net%2Fdn%2FkRIg6%2FbtrjIZ9FHdg%2FOk2WbvuFrWO6AuObr6N1jk%2Fimg.png)\n",
    "\n"
   ]
  },
  {
   "cell_type": "markdown",
   "id": "8da0979e",
   "metadata": {},
   "source": [
    "## 인터넷의 탄생\n",
    "\n",
    "미국 국방부는 중요 군사 정보를 어떻게 관리 해야하는지에 대해서 고민을 했었다.\n",
    "\n",
    "처음에는 철벽 요새를 하나 구축한 뒤 이곳에 중앙 서버를 두어 모든 정보를 중앙 집중형으로 관리 하려고 했으나.\n",
    "\n",
    "핵미사일이 이 요새를 공격하면 어떻게 할꺼냐? 에 대해서 해결책이 없었다.\n",
    "\n",
    "그래서 여러 곳에 서버를 분산 설치한 뒤 이를 서로 연결하여, 일부 서버가 공격 당하더라도 나머지 서버들로 관리하는 방안이 제시되었다.\n",
    "\n",
    "1969년 국방부 산하의 고등 연구국에서는 이런 핵전쟁 하에서도 안정적인 정보 교환을 위한 네트워크 연구에 착수하였다.\n",
    "\n",
    "그 결과 기존의 회선 방식보다는 패킷 방식이 안정적이라는 연구 결과가 나왔다. 그리고 이를 바탕으로\n",
    "\n",
    "\n",
    "\n"
   ]
  },
  {
   "cell_type": "code",
   "execution_count": null,
   "id": "178efc73",
   "metadata": {},
   "outputs": [],
   "source": []
  }
 ],
 "metadata": {
  "kernelspec": {
   "display_name": "Python 3 (ipykernel)",
   "language": "python",
   "name": "python3"
  },
  "language_info": {
   "codemirror_mode": {
    "name": "ipython",
    "version": 3
   },
   "file_extension": ".py",
   "mimetype": "text/x-python",
   "name": "python",
   "nbconvert_exporter": "python",
   "pygments_lexer": "ipython3",
   "version": "3.10.5"
  }
 },
 "nbformat": 4,
 "nbformat_minor": 5
}
