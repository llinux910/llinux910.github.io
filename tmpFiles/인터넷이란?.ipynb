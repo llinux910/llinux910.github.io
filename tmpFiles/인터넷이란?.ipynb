{
 "cells": [
  {
   "cell_type": "markdown",
   "id": "f4e2948b",
   "metadata": {},
   "source": [
    "# 인터넷이란?\n",
    "\n",
    "\n",
    "## 인터넷은 어디 있을까?\n",
    "\n",
    "1969년 학술적 연구 프로젝트의 일환으로서 시작됨 \n",
    "\n",
    "인터넷은 탈중앙화로 유명함.\n",
    "\n",
    "아무도 인터넷을 소유하거나 연결 할 수 있는 사람을 제어하지 않음.(인트라넷은 제외)\n",
    "\n",
    "대부분을 사람들이 웹과 인터넷을 동일시 여기는 경향이있음.\n",
    "\n",
    "이는 잘못된 사실.\n",
    "\n",
    "웹은 인터넷의 많은 응용프로그램중 하나 (ex: 이메일, bitTorrent)\n",
    "\n",
    "\n",
    "</br>\n",
    "<details>\n",
    "<summary>웹 자세히보기</summary>\n",
    "\n",
    "웹은 월드와이드 웹의 줄임말, 첫 글자를 따서 www라고 부르기도 함. \n",
    "\n",
    "거미줄처럼 서로 연결되었단 의미인데 \n",
    "\n",
    "웹에는 수많은 '웹사이트' 들이 있고 각각의 웹 사이트는 '웹페이지'라는 것으로 이루어짐 \n",
    "\n",
    "웹페이지에는 글, 그림, 동영상 등으로 이루어진 정보를 담고 있음. \n",
    "\n",
    "웹페이지 안에는 클릭하면 다른 웹페이지로 이동하는 '링크'들이 있음 \n",
    "\n",
    "이러한 링크 등을 통해 웹페이지들이 연결되어 있음. \n",
    "\n",
    "이러한 링크들이 얽히고설킨 모습이 거미줄과 비슷하다 하여 \n",
    "\n",
    "웹이라 명명됨.\n",
    "</details>\n",
    "\n",
    "\n",
    "\n",
    "\n",
    "![](https://www.betterweb.or.kr/wp-content/uploads/2013/12/Screenshot-from-2013-12-30-165448.png)\n"
   ]
  },
  {
   "cell_type": "code",
   "execution_count": null,
   "id": "8a28e2a5",
   "metadata": {},
   "outputs": [],
   "source": []
  }
 ],
 "metadata": {
  "kernelspec": {
   "display_name": "Python 3 (ipykernel)",
   "language": "python",
   "name": "python3"
  },
  "language_info": {
   "codemirror_mode": {
    "name": "ipython",
    "version": 3
   },
   "file_extension": ".py",
   "mimetype": "text/x-python",
   "name": "python",
   "nbconvert_exporter": "python",
   "pygments_lexer": "ipython3",
   "version": "3.10.5"
  }
 },
 "nbformat": 4,
 "nbformat_minor": 5
}
