{
 "cells": [
  {
   "cell_type": "markdown",
   "id": "b7b9c624",
   "metadata": {},
   "source": [
    "# 인터넷이란?\n",
    "\n",
    "\n",
    "## 인터넷이 뭐야?\n",
    "\n",
    "1969년 학술적 연구 프로젝트의 일환으로서 시작됨 \n",
    "\n",
    "인터넷은 탈중앙화로 유명함.\n",
    "\n",
    "아무도 인터넷을 소유하거나 연결 할 수 있는 사람을 제어하지 않음.(인트라넷은 제외)\n",
    "\n",
    "대부분을 사람들이 웹과 인터넷을 동일시 여기는 경향이있음.\n",
    "\n",
    "이는 잘못된 사실.\n",
    "\n",
    "웹은 인터넷의 많은 응용프로그램중 하나 (ex: 이메일, bitTorrent)\n",
    "\n",
    "\n",
    "![](https://www.betterweb.or.kr/wp-content/uploads/2013/12/Screenshot-from-2013-12-30-165448.png)\n",
    "\n",
    "\n",
    "## 인터넷은 어디있지?\n",
    "\n",
    "인터넷은 세 가지 부분으로 나뉘어짐.\n",
    "\n",
    "- **The last mile** 가정과 인터넷보급업체를 연결하는 인터넷의 구성요소중 하나. 라스트마일에 사람들이 휴대전화로 인터넷에 접속할수 있는 기지국 타워도 포함됨.\n",
    "\n",
    "- **Data centers** 사용자 데이터를 저장하고 인터넷 호스팅 서버를 저장하는 공간, Google이나 facebook과 같은 대기업이 소유하고 있음. 데이터 센터는 인터넷 연결이 매우 빠르기 때문에 동시에 많은 사용자에게 서비스를 제공할 수 있음. 데이터 센터는 전 세계 어디에나 위치할 수 있지만 토지와 전기가 저렴한 외딴 지역에 위치하는 경우가 많은, 예를들어 구글이나 페이스북은 아이오와주에 데이터 센터를 건설함"
   ]
  },
  {
   "cell_type": "code",
   "execution_count": null,
   "id": "904d4437",
   "metadata": {},
   "outputs": [],
   "source": []
  }
 ],
 "metadata": {
  "kernelspec": {
   "display_name": "Python 3 (ipykernel)",
   "language": "python",
   "name": "python3"
  },
  "language_info": {
   "codemirror_mode": {
    "name": "ipython",
    "version": 3
   },
   "file_extension": ".py",
   "mimetype": "text/x-python",
   "name": "python",
   "nbconvert_exporter": "python",
   "pygments_lexer": "ipython3",
   "version": "3.10.5"
  }
 },
 "nbformat": 4,
 "nbformat_minor": 5
}
