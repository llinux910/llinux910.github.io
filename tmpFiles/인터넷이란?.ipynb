{
 "cells": [
  {
   "cell_type": "markdown",
   "id": "8565580e",
   "metadata": {},
   "source": [
    "# 인터넷이란?\n",
    "\n",
    "\n",
    "## 인터넷이 뭐야?\n",
    "\n",
    "1969년 학술적 연구 프로젝트의 일환으로서 시작됨 \n",
    "\n",
    "인터넷은 탈중앙화로 유명함.\n",
    "\n",
    "아무도 인터넷을 소유하거나 연결 할 수 있는 사람을 제어하지 않음.(인트라넷은 제외)\n",
    "\n",
    "대부분을 사람들이 웹과 인터넷을 동일시 여기는 경향이있음.\n",
    "\n",
    "이는 잘못된 사실.\n",
    "\n",
    "웹은 인터넷의 많은 응용프로그램중 하나 (ex: 이메일, bitTorrent)\n",
    "\n",
    "\n",
    "![](https://www.betterweb.or.kr/wp-content/uploads/2013/12/Screenshot-from-2013-12-30-165448.png)\n",
    "\n",
    "\n",
    "## 인터넷은 어디있지?\n",
    "\n",
    "인터넷은 세 가지 부분으로 나뉘어짐.\n",
    "\n",
    "### **The last mile** \n",
    "\n",
    "라스트 마일은 여러 분야에서 사용되는 단어인데.\n",
    "\n",
    "여기선 인터넷 사용자에게 최종적으로 데이터를 전달해주는 구간을 라스트 마일이라고 한다.\n",
    "\n",
    "휴대폰에서 인터넷접속할떄 거치는 기지국이 여기에 해당한다.\n",
    "\n",
    "혹은 ISP(internet service provide (ex:kt,sk )에 접속되는 구간.\n",
    "\n",
    "\n",
    "### **Data centers**\n",
    "\n",
    "인터넷과 연결된 데이터를 모아두는 시설, 통신 기기인 라우터와 수많은 서버, 그리고 안정적 전원 공급을위한 UPS등으로 구성된다.\n",
    "\n",
    "서버의 호텔이라는 표현도 사용함.\n",
    "\n",
    "\n",
    "### **the backbone** \n",
    "\n",
    "속칭 기간망이라고 불리는 것으로,\n",
    "\n",
    "여러 소형 네트워크들을 묶어 대규모 파이프라인을 통해 \n",
    "\n",
    "극도로 높은 대역폭으로 다른 네트워크들의 집합과 연결되는 네트워크(대규모 패킷 통신망)을 백본이라고 부른다.\n",
    "\n"
   ]
  },
  {
   "cell_type": "code",
   "execution_count": null,
   "id": "c323d0df",
   "metadata": {},
   "outputs": [],
   "source": []
  }
 ],
 "metadata": {
  "kernelspec": {
   "display_name": "Python 3 (ipykernel)",
   "language": "python",
   "name": "python3"
  },
  "language_info": {
   "codemirror_mode": {
    "name": "ipython",
    "version": 3
   },
   "file_extension": ".py",
   "mimetype": "text/x-python",
   "name": "python",
   "nbconvert_exporter": "python",
   "pygments_lexer": "ipython3",
   "version": "3.10.5"
  }
 },
 "nbformat": 4,
 "nbformat_minor": 5
}
