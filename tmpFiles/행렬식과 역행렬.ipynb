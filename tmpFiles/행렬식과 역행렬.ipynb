{
 "cells": [
  {
   "cell_type": "markdown",
   "id": "ef25367a",
   "metadata": {},
   "source": [
    "행렬식을 사용함으로써 행렬의 영핵렬을 구할 수 있습니다. 역행렬을 사용하면 행렬의 방적식을 풀 수 있게 됩니다.\n",
    "\n",
    "## 단위행렬\n",
    "\n",
    "단위행렬의 예를 들어 다음과 같은 행렬을 말합니다.\n"
   ]
  },
  {
   "cell_type": "markdown",
   "id": "8959d2b0",
   "metadata": {},
   "source": [
    "$$\n",
    "A = \\begin{pmatrix}\n",
    "1 & 0\\\\\n",
    "0 & 1\n",
    "\\end{pmatrix}\n",
    "$$\n",
    "\n",
    "$$\n",
    "A = \\begin{pmatrix}\n",
    "1 & 0 & 0\\\\\n",
    "0 & 1 & 0\\\\\n",
    "0 & 0 & 1\\\\\n",
    "\\end{pmatrix}\n",
    "$$\n",
    "\n",
    "$$\n",
    "B = \\begin {pmatrix}\n",
    "1 & 0 & \\cdots & 0 \\\\ \n",
    "0 & 1 & \\cdots & 0 \\\\\n",
    "\\vdots & \\vdots & \\ddots & \\vdots \\\\\n",
    "0 & 0 & \\cdots & 1 \n",
    "\\end {pmatrix}\n",
    "$$\n"
   ]
  },
  {
   "cell_type": "markdown",
   "id": "7af31431",
   "metadata": {},
   "source": [
    "이처럼 단위행렬에서는 행과 열의 수가 같고, 왼쪽 위에서부터 오른쪽 아래로 1이 나열 그외의 요소는 0이 됩니다.\n",
    "\n",
    "단위 행렬은 다른 행렬의 앞이나 뒤에서 행렬곱을 하더라도 그 행렬의 값을 변화시키지 않는 특징이 있습니다. \n",
    "\n",
    "다음은 2X2의 단위 행렬을 **E**로 나타내는데 2X2의 행렬 **A**의 앞뒤에 단위행렬 E를 곱해도 행렬 A는 변화하지 않습니다. "
   ]
  },
  {
   "cell_type": "code",
   "execution_count": null,
   "id": "e6375f29",
   "metadata": {},
   "outputs": [],
   "source": []
  }
 ],
 "metadata": {
  "kernelspec": {
   "display_name": "Python 3 (ipykernel)",
   "language": "python",
   "name": "python3"
  },
  "language_info": {
   "codemirror_mode": {
    "name": "ipython",
    "version": 3
   },
   "file_extension": ".py",
   "mimetype": "text/x-python",
   "name": "python",
   "nbconvert_exporter": "python",
   "pygments_lexer": "ipython3",
   "version": "3.10.7"
  }
 },
 "nbformat": 4,
 "nbformat_minor": 5
}
