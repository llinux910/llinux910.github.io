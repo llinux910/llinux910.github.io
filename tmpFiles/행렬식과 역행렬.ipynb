{
 "cells": [
  {
   "cell_type": "markdown",
   "id": "60943ee2",
   "metadata": {},
   "source": [
    "행렬식을 사용함으로써 행렬의 역행렬을 구할 수 있습니다. 역행렬을 사용하면 행렬의 방적식을 풀 수 있게 됩니다.\n",
    "\n",
    "## 단위행렬\n",
    "\n",
    "단위행렬의 예를 들어 다음과 같은 행렬을 말합니다.\n"
   ]
  },
  {
   "cell_type": "markdown",
   "id": "51f2c82a",
   "metadata": {},
   "source": [
    "$$\n",
    "A = \\begin{pmatrix}\n",
    "1 & 0\\\\\n",
    "0 & 1\n",
    "\\end{pmatrix}\n",
    "$$\n",
    "\n",
    "$$\n",
    "A = \\begin{pmatrix}\n",
    "1 & 0 & 0\\\\\n",
    "0 & 1 & 0\\\\\n",
    "0 & 0 & 1\\\\\n",
    "\\end{pmatrix}\n",
    "$$\n",
    "\n",
    "$$\n",
    "B = \\begin {pmatrix}\n",
    "1 & 0 & \\cdots & 0 \\\\ \n",
    "0 & 1 & \\cdots & 0 \\\\\n",
    "\\vdots & \\vdots & \\ddots & \\vdots \\\\\n",
    "0 & 0 & \\cdots & 1 \n",
    "\\end {pmatrix}\n",
    "$$\n"
   ]
  },
  {
   "cell_type": "markdown",
   "id": "bd10f310",
   "metadata": {},
   "source": [
    "이처럼 단위행렬에서는 행과 열의 수가 같고, 왼쪽 위에서부터 오른쪽 아래로 1이 나열 그외의 요소는 0이 됩니다.\n",
    "\n",
    "단위 행렬은 다른 행렬의 앞이나 뒤에서 행렬곱을 하더라도 그 행렬의 값을 변화시키지 않는 특징이 있습니다. \n",
    "\n",
    "다음은 2X2의 단위 행렬을 **E**로 나타내는데 2X2의 행렬 **A**의 앞뒤에 단위행렬 E를 곱해도 행렬 A는 변화하지 않습니다. "
   ]
  },
  {
   "cell_type": "markdown",
   "id": "417eec6e",
   "metadata": {},
   "source": [
    "$$\n",
    "E = \\begin{pmatrix}\n",
    "1 & 0\\\\\n",
    "0 & 1\n",
    "\\end{pmatrix}\n",
    "$$\n",
    "\n",
    "$$\n",
    "A = \\begin{pmatrix}\n",
    "a & b\\\\\n",
    "c & d\n",
    "\\end{pmatrix}\n",
    "$$\n",
    "\n",
    "\n",
    "$$\n",
    "EA = \\begin{pmatrix}1 & 0\\\\\n",
    "0 & 1\n",
    "\\end{pmatrix} \\begin{pmatrix}a & b\\\\\n",
    "c & d\\\\ \n",
    "\\end{pmatrix} = \\begin{pmatrix}a & b\\\\\n",
    "c & d\\end{pmatrix}\n",
    "$$\n",
    "\n",
    "$$\n",
    "AE = \\begin{pmatrix}a & b\\\\\n",
    "c & d\\\\ \n",
    "\\end{pmatrix}\\begin{pmatrix}1 & 0\\\\\n",
    "0 & 1\n",
    "\\end{pmatrix}  = \\begin{pmatrix}a & b\\\\\n",
    "c & d\\end{pmatrix}\n",
    "$$\n"
   ]
  },
  {
   "cell_type": "markdown",
   "id": "67b95581",
   "metadata": {},
   "source": [
    "단위행렬이 3x3이든 4x4든 앞뒤 어느 쪽부터 곱하든 행렬을 변화시키지 않는 성질은 같습니다.\n",
    "\n",
    "위와 같이 단위행렬에는 같은 크기의 행렬에는 같은 크기의 행렬에 곱해도 곱하는 대상의 행렬을 변화시키지 않는 성질이 있습니다."
   ]
  },
  {
   "cell_type": "markdown",
   "id": "2bdf75b6",
   "metadata": {},
   "source": [
    "## 단위행렬의 구현\n",
    "\n",
    "numpy에는 **eye()** 함수로 단위행렬을 작성할 수 있습니다. **eye()** 함수에 전달하는 인수는 단위행렬의 크기를 나타냅니다."
   ]
  },
  {
   "cell_type": "code",
   "execution_count": 1,
   "id": "9ba82f77",
   "metadata": {},
   "outputs": [
    {
     "name": "stdout",
     "output_type": "stream",
     "text": [
      "[[1. 0.]\n",
      " [0. 1.]]\n",
      "\n",
      "[[1. 0. 0.]\n",
      " [0. 1. 0.]\n",
      " [0. 0. 1.]]\n",
      "\n",
      "[[1. 0. 0. 0.]\n",
      " [0. 1. 0. 0.]\n",
      " [0. 0. 1. 0.]\n",
      " [0. 0. 0. 1.]]\n"
     ]
    }
   ],
   "source": [
    "import numpy as np\n",
    "\n",
    "print(np.eye(2)) # 2x2의 단위행렬\n",
    "print()\n",
    "print(np.eye(3)) # 3x3의 단위행렬\n",
    "print()\n",
    "print(np.eye(4)) # 4x4의 단위행렬\n"
   ]
  },
  {
   "cell_type": "markdown",
   "id": "750e2878",
   "metadata": {},
   "source": [
    "왼쪽 위에서부터 오른쪽 아래로 1이 나열, 나머지 요소는 전부 0으로 되어 있는 걸 확인 할 수 있습니다."
   ]
  },
  {
   "cell_type": "markdown",
   "id": "1c9d6a2d",
   "metadata": {},
   "source": [
    "## 역행렬\n",
    "\n",
    "다음 예에서 나타내듯이 어떤 수치와 그의 역수를 곱하면 1이 됩니다.\n",
    "\n",
    "$$\n",
    "3 * \\frac{1}{3} = 1 \\\\\n",
    "21 * \\frac{1}{21}  = 1\n",
    "$$"
   ]
  },
  {
   "cell_type": "markdown",
   "id": "5ba83e85",
   "metadata": {},
   "source": [
    "스칼라와 만찬가지로 행렬에도 곱하면 단위행렬이 되는 행렬이 존재합니다.\n",
    "이러한 행렬을 **역행렬**이라고 합니다.\n",
    "행렬 $$A$$의 역행렬을 $$A^{-1}$$로 나타내면 $$A$$와 $$A^{-1}$$의 관계를 다음과 같이 나타낼 수 있습니다."
   ]
  },
  {
   "cell_type": "markdown",
   "id": "8dedcd93",
   "metadata": {},
   "source": [
    "$$\n",
    "A^{-1}A = AA^{-1} = E\n",
    "$$"
   ]
  },
  {
   "cell_type": "markdown",
   "id": "bced5e18",
   "metadata": {},
   "source": [
    "이 경우 A는 행과 열의 수가 같은 **정방행렬**이어야 합니다.\n",
    "\n",
    "예를 들어 다음 2개의 행렬 C와 D는 어떤 순서로 행렬곱을 계산해도 단위행렬이 되기 떄문에 서로 역행렬 관계가 됩니다.\n"
   ]
  },
  {
   "cell_type": "markdown",
   "id": "c464130f",
   "metadata": {},
   "source": [
    "$$\n",
    "C = \\begin{pmatrix}\n",
    "1 & 1\\\\\n",
    "1 & 2\n",
    "\\end{pmatrix} D = \\begin{pmatrix}\n",
    "2 & -1\\\\\n",
    "-1 & 1\\\\ \n",
    "\\end{pmatrix}\n",
    "$$\n"
   ]
  },
  {
   "cell_type": "markdown",
   "id": "2a6c7279",
   "metadata": {},
   "source": [
    "$$\n",
    "CD = DC = \\begin{pmatrix}\n",
    "1 & 0\\\\\n",
    "0 & 1\n",
    "\\end{pmatrix}\n",
    "$$\n"
   ]
  },
  {
   "cell_type": "markdown",
   "id": "313b46d8",
   "metadata": {},
   "source": [
    "## 행렬식\n",
    "\n",
    "행렬에 따라서는 역행렬이 존재하지 않을 수 있습니다. 역행렬이 존재할지 여부는 **행렬식**에 의해 판정할 수 있습니다.\n",
    "\n",
    "다음 행렬 A를 봅시다.\n",
    "\n",
    "$$\n",
    "A = \n",
    "\\begin{pmatrix}\n",
    "a & b\\\\\n",
    "c & d\n",
    "\\end{pmatrix}\n",
    "$$\n",
    "\n",
    "행렬식은 |A| 또는 detA로 나타내는 다음의 식으로 표현합니다.\n",
    "$$\n",
    "|A| = detA = ad - bc\n",
    "$$\n",
    "\n",
    "이 행렬식이 0인 경우, 역행렬은 존재하지 않습니다. 예를 들어 다음의 행렬은 1X4-2x3 = -2 이므로 역행렬이 존재합니다.\n",
    "\n",
    "$$\n",
    "A = \n",
    "\\begin{pmatrix}\n",
    "1 & 2\\\\\n",
    "3 & 4\n",
    "\\end{pmatrix}\n",
    "$$\n",
    "\n",
    "한편, 다음의 행렬은 1 * 0  - 2 * 0 = 0 이므로 역행렬이 존재하지 않습니다.\n",
    "\n",
    "$$\n",
    "A = \n",
    "\\begin{pmatrix}\n",
    "1 & 2\\\\\n",
    "0 & 0\n",
    "\\end{pmatrix}\n",
    "$$\n",
    "\n",
    "역행렬이 존재하는 경우 다음의 공식에 의해 역행렬을 구할 수 있습니다.\n",
    "\n",
    "$$\n",
    "A^{-1} = \\frac{1}{ad-bc}\\begin{pmatrix}\n",
    "d & -b\\\\\n",
    "-c & a\n",
    "\\end{pmatrix}\n",
    "$$"
   ]
  },
  {
   "cell_type": "markdown",
   "id": "ddca512a",
   "metadata": {},
   "source": [
    "## 행렬식의 구현\n",
    "\n",
    "numpy의 **linalg.det()** 함수에 의해 행렬식을 구할 수 있습니다.\n"
   ]
  },
  {
   "cell_type": "code",
   "execution_count": 4,
   "id": "d4d247ee",
   "metadata": {},
   "outputs": [
    {
     "name": "stdout",
     "output_type": "stream",
     "text": [
      "-2.0000000000000004\n",
      "0.0\n"
     ]
    }
   ],
   "source": [
    "import numpy as np\n",
    "\n",
    "a = np.array([[1,2],\n",
    "             [3,4]])\n",
    "print(np.linalg.det(a)) # 행렬식이 0이 되지 않는 경우\n",
    "\n",
    "b = np.array([[1,2],\n",
    "             [0,0]]) \n",
    "\n",
    "print(np.linalg.det(b)) # 행렬식이 0이 되는 경우"
   ]
  },
  {
   "cell_type": "markdown",
   "id": "237bfcf4",
   "metadata": {},
   "source": [
    "## 역행렬의 구현\n",
    "\n",
    "역행렬이 존재하는 경우, numpy의 **linalg.inv()** 함수로 역행렬을 구할 수 있습니다."
   ]
  },
  {
   "cell_type": "code",
   "execution_count": 5,
   "id": "de1ed8e9",
   "metadata": {},
   "outputs": [
    {
     "name": "stdout",
     "output_type": "stream",
     "text": [
      "[[-2.   1. ]\n",
      " [ 1.5 -0.5]]\n"
     ]
    }
   ],
   "source": [
    "import numpy as np\n",
    "\n",
    "a = np.array([[1,2],\n",
    "             [3,4]])\n",
    "print(np.linalg.inv(a)) # 역행렬\n",
    "\n",
    "b = np.array([[1,2],\n",
    "             [0,0]])\n",
    "# print(np.linalg.inv(b)) # 역행렬이 존재하지 않으므로 에러가 난다."
   ]
  },
  {
   "cell_type": "markdown",
   "id": "2d0b36fa",
   "metadata": {},
   "source": [
    "행수, 열수가 많은 정방행렬은 역행렬을 손으로 계산할 떄 가우스 소거법, 여인수법등을 이용하는데 계산이 조금 복잡해집니다. \n",
    "\n",
    "그렇지만 이러한 경우에도 numpy의 **linalg.inv()** 함수를 사용하면 간단하게 역행렬을 구할 수 있습니다.\n",
    "\n",
    "역행렬은 인공지능에서 변수끼리 상관관계를 알아보는 회귀 분석에 사용됩니다."
   ]
  }
 ],
 "metadata": {
  "kernelspec": {
   "display_name": "Python 3 (ipykernel)",
   "language": "python",
   "name": "python3"
  },
  "language_info": {
   "codemirror_mode": {
    "name": "ipython",
    "version": 3
   },
   "file_extension": ".py",
   "mimetype": "text/x-python",
   "name": "python",
   "nbconvert_exporter": "python",
   "pygments_lexer": "ipython3",
   "version": "3.10.7"
  }
 },
 "nbformat": 4,
 "nbformat_minor": 5
}
