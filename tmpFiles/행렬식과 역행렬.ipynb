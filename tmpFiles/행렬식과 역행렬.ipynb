{
 "cells": [
  {
   "cell_type": "markdown",
   "id": "9b4bae53",
   "metadata": {},
   "source": [
    "행렬식을 사용함으로써 행렬의 영핵렬을 구할 수 있습니다. 역행렬을 사용하면 행렬의 방적식을 풀 수 있게 됩니다.\n",
    "\n",
    "## 단위행렬\n",
    "\n",
    "단위행렬의 예를 들어 다음과 같은 행렬을 말합니다.\n"
   ]
  },
  {
   "cell_type": "markdown",
   "id": "7c0bbbd1",
   "metadata": {},
   "source": [
    "$$\n",
    "A = \\begin{pmatrix}\n",
    "1 & 0\\\\\n",
    "0 & 1\n",
    "\\end{pmatrix}\n",
    "$$\n",
    "\n",
    "$$\n",
    "A = \\begin{pmatrix}\n",
    "1 & 0 & 0\\\\\n",
    "0 & 1 & 0\\\\\n",
    "0 & 0 & 1\\\\\n",
    "\\end{pmatrix}\n",
    "$$\n",
    "\n",
    "$$\n",
    "B = \\begin {pmatrix}\n",
    "1 & 0 & \\cdots & 0 \\\\ \n",
    "0 & 1 & \\cdots & 0 \\\\\n",
    "\\vdots & \\vdots & \\ddots & \\vdots \\\\\n",
    "0 & 0 & \\cdots & 1 \n",
    "\\end {pmatrix}\n",
    "$$\n"
   ]
  },
  {
   "cell_type": "markdown",
   "id": "880645b8",
   "metadata": {},
   "source": [
    "이처럼 단위행렬에서는 행과 열의 수가 같고, 왼쪽 위에서부터 오른쪽 아래로 1이 나열 그외의 요소는 0이 됩니다.\n",
    "\n",
    "단위 행렬은 다른 행렬의 앞이나 뒤에서 행렬곱을 하더라도 그 행렬의 값을 변화시키지 않는 특징이 있습니다. \n",
    "\n",
    "다음은 2X2의 단위 행렬을 **E**로 나타내는데 2X2의 행렬 **A**의 앞뒤에 단위행렬 E를 곱해도 행렬 A는 변화하지 않습니다. "
   ]
  },
  {
   "cell_type": "markdown",
   "id": "673550eb",
   "metadata": {},
   "source": [
    "$$\n",
    "E = \\begin{pmatrix}\n",
    "1 & 0\\\\\n",
    "0 & 1\n",
    "\\end{pmatrix}\n",
    "$$\n",
    "\n",
    "$$\n",
    "A = \\begin{pmatrix}\n",
    "a & b\\\\\n",
    "c & d\n",
    "\\end{pmatrix}\n",
    "$$\n",
    "\n",
    "\n",
    "$$\n",
    "EA = \\begin{pmatrix}1 & 0\\\\\n",
    "0 & 1\n",
    "\\end{pmatrix} \\begin{pmatrix}a & b\\\\\n",
    "c & d\\\\ \n",
    "\\end{pmatrix} = \\begin{pmatrix}a & b\\\\\n",
    "c & d\\end{pmatrix}\n",
    "$$\n",
    "\n",
    "$$\n",
    "AE = \\begin{pmatrix}a & b\\\\\n",
    "c & d\\\\ \n",
    "\\end{pmatrix}\\begin{pmatrix}1 & 0\\\\\n",
    "0 & 1\n",
    "\\end{pmatrix}  = \\begin{pmatrix}a & b\\\\\n",
    "c & d\\end{pmatrix}\n",
    "$$\n"
   ]
  },
  {
   "cell_type": "markdown",
   "id": "0429fb25",
   "metadata": {},
   "source": [
    "단위행렬이 3x3이든 4x4든 앞뒤 어느 쪽부터 곱하든 행렬을 변화시키지 않는 성질은 같습니다.\n",
    "\n",
    "위와 같이 단위행렬에는 같은 크기의 행렬에는 같은 크기의 행렬에 곱해도 곱하는 대상의 행렬을 변화시키지 않는 성질이 있습니다."
   ]
  },
  {
   "cell_type": "markdown",
   "id": "5296aaf4",
   "metadata": {},
   "source": [
    "## 단위행렬의 구현\n",
    "\n",
    "numpy에는 **eye()** 함수로 단위행렬을 작성할 수 있습니다. **eye()** 함수에 전달하는 인수는 단위행렬의 크기를 나타냅니다."
   ]
  },
  {
   "cell_type": "code",
   "execution_count": 1,
   "id": "5c9932d0",
   "metadata": {},
   "outputs": [
    {
     "name": "stdout",
     "output_type": "stream",
     "text": [
      "[[1. 0.]\n",
      " [0. 1.]]\n",
      "\n",
      "[[1. 0. 0.]\n",
      " [0. 1. 0.]\n",
      " [0. 0. 1.]]\n",
      "\n",
      "[[1. 0. 0. 0.]\n",
      " [0. 1. 0. 0.]\n",
      " [0. 0. 1. 0.]\n",
      " [0. 0. 0. 1.]]\n"
     ]
    }
   ],
   "source": [
    "import numpy as np\n",
    "\n",
    "print(np.eye(2)) # 2x2의 단위행렬\n",
    "print()\n",
    "print(np.eye(3)) # 3x3의 단위행렬\n",
    "print()\n",
    "print(np.eye(4)) # 4x4의 단위행렬\n"
   ]
  },
  {
   "cell_type": "markdown",
   "id": "a04d9a60",
   "metadata": {},
   "source": [
    "왼쪽 위에서부터 오른쪽 아래로 1이 나열, 나머지 요소는 전부 0으로 되어 있는 걸 확인 할 수 있습니다."
   ]
  },
  {
   "cell_type": "markdown",
   "id": "fc6321d7",
   "metadata": {},
   "source": [
    "## 역행렬\n",
    "\n",
    "다음 예에서 나타내듯이 어떤 수치와 그의 역수를 곱하면 1이 됩니다.\n",
    "\n",
    "$$\n",
    "3 * \\frac{1}{3} = 1 \\\\\n",
    "21 * \\frac{1}{21}  = 1\n",
    "$$"
   ]
  },
  {
   "cell_type": "markdown",
   "id": "b78e00b7",
   "metadata": {},
   "source": [
    "스칼라와 만찬가지로 행렬에도 곱하면 단위행렬이 되는 행렬이 존재합니다.\n",
    "이러한 행렬을 **역행렬**이라고 합니다.\n",
    "행렬 $$A$$의 역행렬을 $$A^{-1}$$로 나타내면 $$A$$와 $$A^{-1}$$의 관계를 다음과 같이 나타낼 수 있습니다."
   ]
  },
  {
   "cell_type": "code",
   "execution_count": null,
   "id": "f589eda4",
   "metadata": {},
   "outputs": [],
   "source": []
  }
 ],
 "metadata": {
  "kernelspec": {
   "display_name": "Python 3 (ipykernel)",
   "language": "python",
   "name": "python3"
  },
  "language_info": {
   "codemirror_mode": {
    "name": "ipython",
    "version": 3
   },
   "file_extension": ".py",
   "mimetype": "text/x-python",
   "name": "python",
   "nbconvert_exporter": "python",
   "pygments_lexer": "ipython3",
   "version": "3.10.7"
  }
 },
 "nbformat": 4,
 "nbformat_minor": 5
}
