{
 "cells": [
  {
   "cell_type": "markdown",
   "id": "ef13a02e",
   "metadata": {},
   "source": [
    "# 인터넷 작동 방식\n",
    "인터넷이 어떤 방식으로 작동하는지 설명하는 페이지 입니다.\n",
    "\n",
    "## 시작\n",
    "인터넷에 연결되기 위해선 ip주소가 있어야합니다.\n",
    "\n",
    "nnn.nnn.nnn.nnn 형식입니다. \n",
    "\n",
    "여기서 nnn 은 0 - 255 사이의 숫자이며 \n",
    "\n",
    "이 값을 IP주소라고 합니다.\n",
    "\n",
    "ISP(internet service provider)를 통해서 연결하는 경우\n",
    "\n",
    "일반적으로 접속 세션동안 임시 IP주소가 할당됩니다.\n",
    "\n",
    "LAN(Local Area Network)에서 인터넷에 연결하는 경우 컴퓨터에 영구 IP주소가 있거나\n",
    "\n",
    "DHCP(Dynamic Host Configuration Protocaol) 서버에서 임시 IP주소를 얻습니다.\n",
    "\n",
    "## 프로토콜 스택 및 패킷\n",
    "\n",
    "인터넷에 연결되있으면 IP주소가 존재합니다.\n",
    "\n",
    "그렇다면 통신은 어떤방식으로 이루어지나요?\n",
    "\n",
    "IP 1.2.3.4 의 컴퓨터가 IP 5.6.7.8 컴퓨터로 데이터를 보냅니다\n",
    "\n",
    "\"Hello computer 5.6.7.8!\"\n",
    "\n",
    "집에서 ISP를 통해 전자신호로 변경된 메시지가 전송된다음,\n",
    "\n",
    "전송받은컴퓨터에서 다시 전자신호를 텍스트로 변역해야합니다.\n",
    "\n",
    "헌데 두 컴퓨터의 해석하는 방식이 다르다면?\n",
    "\n",
    "서로의 메세지를 재대로 해석할 수가 없습니다.\n",
    "\n",
    "이 이유때문에 프로토콜이라는 규익이 존재합니다.\n",
    "\n"
   ]
  },
  {
   "cell_type": "code",
   "execution_count": null,
   "id": "cd1a785a",
   "metadata": {},
   "outputs": [],
   "source": []
  }
 ],
 "metadata": {
  "kernelspec": {
   "display_name": "Python 3 (ipykernel)",
   "language": "python",
   "name": "python3"
  },
  "language_info": {
   "codemirror_mode": {
    "name": "ipython",
    "version": 3
   },
   "file_extension": ".py",
   "mimetype": "text/x-python",
   "name": "python",
   "nbconvert_exporter": "python",
   "pygments_lexer": "ipython3",
   "version": "3.10.5"
  }
 },
 "nbformat": 4,
 "nbformat_minor": 5
}
