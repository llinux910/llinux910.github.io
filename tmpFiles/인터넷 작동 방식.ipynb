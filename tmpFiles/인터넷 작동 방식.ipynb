{
 "cells": [
  {
   "cell_type": "markdown",
   "id": "b1541b84",
   "metadata": {},
   "source": [
    "# 인터넷 작동 방식\n",
    "\n",
    "인터넷이 어떻게 작동하는지 설명합니다.\n",
    "\n",
    "## 간단한 네트워크\n",
    "\n",
    "두 대의 컴퓨터가 통신해야 하는 경우 물리적으로(일반적으로 이더넷 케이블 사용)또는 무선(wifi 또는 bluetooth)으로 연결해야합니다.\n",
    "\n",
    "모든 최신컴퓨터는 이러한 연결을 유지할 수 있습니다. \n",
    "\n",
    "![](https://developer.mozilla.org/en-US/docs/Learn/Common_questions/How_does_the_Internet_work/internet-schema-1.png)\n",
    "\n",
    "이러한 네트워크는 두 대의 컴퓨터로 제한되지 않습니다. 원한느 만큼 컴퓨터를 연결할 수 있습니다. 하지만 금방 복잡해집니다.\n",
    "\n",
    "예를 들어 10대의 컴퓨터를 서로 연결하려면 컴퓨터당 9의 플러그가있는 45개의 케이블이 필요합니다.\n",
    "\n",
    "![](https://developer.mozilla.org/en-US/docs/Learn/Common_questions/How_does_the_Internet_work/internet-schema-2.png)\n",
    "\n",
    "이 문제를 해결하기 위해 네트워크의 각 컴퓨터는 라우터라는 작은 특수 컴퓨터에 연결됩니다. 이 라우터는 단 하나의 작업만 수행합니다.\n",
    "\n",
    "기차역의 신호기처럼 주어진 컴퓨터에서 보낸 메시지가 올바른 대상 컴퓨터에 도착하는지 확인합니다. 컴퓨터 B로 메세지를 보내려면 컴퓨터 A가 메세지를 라우터로 보내야 하며 라우터는 메시지를 컴퓨터 B로 전달하고 메시지가 컴퓨터 C로 전달되지 않도록합니다.\n",
    "\n",
    "시스템에 라우터를 추가하면 10대의 컴퓨터 네트워크에 10개의 케이블만 필요합니다.\n",
    "\n",
    "각컴퓨터용 단일 플러그와 10개 플러그가 있는 라우터 입니다.\n",
    "\n",
    "![](https://developer.mozilla.org/en-US/docs/Learn/Common_questions/How_does_the_Internet_work/internet-schema-3.png)\n",
    "\n",
    "## 네트워크그룹 간의 통신\n",
    "\n",
    "수억만대의 컴퓨터 연결은 어떻합니까?\n",
    "\n",
    "라우터를 하나의 컴퓨터로 놓고 생각해보면 간단해집니다.\n",
    "\n",
    "![](https://developer.mozilla.org/en-US/docs/Learn/Common_questions/How_does_the_Internet_work/internet-schema-4.png)\n",
    "\n",
    "컴퓨터를 라우터에 연결한 다음 라우터를 라우터에 연결하면 무한대로 확장할 수 있습니다.\n",
    "\n",
    "![](https://developer.mozilla.org/en-US/docs/Learn/Common_questions/How_does_the_Internet_work/internet-schema-5.png)\n",
    "\n",
    "그러한 네트워크는 우리가 인터넷이라고 부르는 것과 매우 유사하지만 놓치고 있는것이 있습니다. 우리는 우리 자신의 목적을 위해 그 네트워크를 구축했습니다.\n",
    "\n",
    "다른 네트워크가 있습니다. 친구,이웃,누구나 자신의 컴퓨터 네트워크를 가질 수 있습니다.\n"
   ]
  }
 ],
 "metadata": {
  "kernelspec": {
   "display_name": "Python 3 (ipykernel)",
   "language": "python",
   "name": "python3"
  },
  "language_info": {
   "codemirror_mode": {
    "name": "ipython",
    "version": 3
   },
   "file_extension": ".py",
   "mimetype": "text/x-python",
   "name": "python",
   "nbconvert_exporter": "python",
   "pygments_lexer": "ipython3",
   "version": "3.10.5"
  }
 },
 "nbformat": 4,
 "nbformat_minor": 5
}
