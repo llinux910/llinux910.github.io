{
 "cells": [
  {
   "cell_type": "markdown",
   "id": "c657c922",
   "metadata": {},
   "source": [
    "# Latex의 기초\n",
    "\n",
    "LaTex(레이텍,라텍)이라는 문서 처리 시스템을 사용해 수식을 꺠끗하게 입력하는 방법을 배웁니다. \n",
    "\n",
    "LaTeX을 익히면 보기가 좋고 재이용할 수 있는 수식을 손쉽게 입력할 수 있습니다.\n",
    "\n",
    "## LaTeX\n",
    "Jupyter Notebook은 LaTeX이라는 문서 처리 시스템을 사용해서 수식을 표현할 수 있습니다.\n",
    "\n",
    "다음수식을 LaTeX을 사용해서 나타내봅시다.\n",
    "\n",
    "$$\n",
    "y = 2x +1\n",
    "$$\n",
    "\n",
    "Jupyter Notebook의 셀타입을 \"마크다운\"으로하고 아래처럼 입력해 실행합니다.\n",
    "\n"
   ]
  },
  {
   "cell_type": "markdown",
   "id": "30a91b1e",
   "metadata": {},
   "source": [
    "```bash\n",
    "$$y=2x+1$$\n",
    "```\n"
   ]
  },
  {
   "cell_type": "markdown",
   "id": "9f02dc3d",
   "metadata": {},
   "source": [
    "입력한 코드에 문제가 없으면 아래처럼 수식이 표현됩니다.\n"
   ]
  },
  {
   "cell_type": "markdown",
   "id": "89d723ef",
   "metadata": {},
   "source": [
    "$$y=2x+1$$"
   ]
  },
  {
   "cell_type": "markdown",
   "id": "8dd445d6",
   "metadata": {},
   "source": [
    "이와 같이 \"마크다운\"의 셀에는 두 겹의 $ 안에 수식을 나타내는 LaTeX코드를 기술합니다. \n",
    "\n",
    "또한, 문장 중에 수식을 삽입할 떄는 $y=2x+1$처럼 한 겹의 $ 안에 코드를 기술합니다.\n",
    "\n",
    "## 여러 가지 수식의 기술\n",
    "\n",
    "LaTeX으로 여러 가지 수식을 기술해 봅시다.\n",
    "\n",
    "### 첨자와 거듭제곱\n",
    "**^**와 **_** 기호를 사용해서 오른쪽 아래의 첨자와 오른쪽 위의 거듭제곱을 표현할 수 있습니다. \n",
    "\n",
    "첨자가 여러 개 있는 경우는 **{}**로 감쌉니다.\n"
   ]
  },
  {
   "cell_type": "markdown",
   "id": "f852a4bc",
   "metadata": {},
   "source": [
    "\n",
    "|수식의 예|LaTeX의 기술\n",
    "|---|---|\n",
    "|$$a_1$$| a_1|\n",
    "|$$a_{ij}$$| a_{ij}|\n",
    "|$$b^2$$|b^{2}|"
   ]
  },
  {
   "cell_type": "code",
   "execution_count": null,
   "id": "f99e6101",
   "metadata": {},
   "outputs": [],
   "source": []
  }
 ],
 "metadata": {
  "kernelspec": {
   "display_name": "Python 3 (ipykernel)",
   "language": "python",
   "name": "python3"
  },
  "language_info": {
   "codemirror_mode": {
    "name": "ipython",
    "version": 3
   },
   "file_extension": ".py",
   "mimetype": "text/x-python",
   "name": "python",
   "nbconvert_exporter": "python",
   "pygments_lexer": "ipython3",
   "version": "3.10.5"
  }
 },
 "nbformat": 4,
 "nbformat_minor": 5
}
