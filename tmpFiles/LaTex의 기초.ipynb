{
 "cells": [
  {
   "cell_type": "markdown",
   "id": "841952a0",
   "metadata": {},
   "source": [
    "# Latex의 기초\n",
    "\n",
    "LaTex(레이텍,라텍)이라는 문서 처리 시스템을 사용해 수식을 꺠끗하게 입력하는 방법을 배웁니다. \n",
    "\n",
    "LaTeX을 익히면 보기가 좋고 재이용할 수 있는 수식을 손쉽게 입력할 수 있습니다.\n",
    "\n",
    "## LaTeX\n",
    "Jupyter Notebook은 LaTeX이라는 문서 처리 시스템을 사용해서 수식을 표현할 수 있습니다.\n",
    "\n",
    "다음수식을 LaTeX을 사용해서 나타내봅시다.\n",
    "\n",
    "$$\n",
    "y = 2x +1\n",
    "$$\n",
    "\n",
    "Jupyter Notebook의 셀타입을 \"마크다운\"으로하고 아래처럼 입력해 실행합니다.\n",
    "\n"
   ]
  },
  {
   "cell_type": "markdown",
   "id": "e7fa0303",
   "metadata": {},
   "source": [
    "```bash\n",
    "$$y=2x+1$$\n",
    "```\n"
   ]
  },
  {
   "cell_type": "markdown",
   "id": "48db5405",
   "metadata": {},
   "source": [
    "입력한 코드에 문제가 없으면 아래처럼 수식이 표현됩니다.\n"
   ]
  },
  {
   "cell_type": "markdown",
   "id": "e035cc2a",
   "metadata": {},
   "source": [
    "$$y=2x+1$$"
   ]
  },
  {
   "cell_type": "markdown",
   "id": "a34beba0",
   "metadata": {},
   "source": [
    "이와 같이 \"마크다운\"의 셀에는 두 겹의 $ 안에 수식을 나타내는 LaTeX코드를 기술합니다. \n",
    "\n",
    "또한, 문장 중에 수식을 삽입할 떄는 $y=2x+1$처럼 한 겹의 $ 안에 코드를 기술합니다.\n",
    "\n",
    "## 여러 가지 수식의 기술\n",
    "\n",
    "LaTeX으로 여러 가지 수식을 기술해 봅시다.\n",
    "\n",
    "### 첨자와 거듭제곱\n",
    "**^**와 **_** 기호를 사용해서 오른쪽 아래의 첨자와 오른쪽 위의 거듭제곱을 표현할 수 있습니다. \n",
    "\n",
    "첨자가 여러 개 있는 경우는 **{}**로 감쌉니다.\n"
   ]
  },
  {
   "cell_type": "markdown",
   "id": "1fa5bb7e",
   "metadata": {},
   "source": [
    "\n",
    "|수식의 예|LaTeX의 기술\n",
    "|---|---|\n",
    "|$$a_1$$| a_1|\n",
    "|$$a_{ij}$$| a_{ij}|\n",
    "|$$b^2$$|b^{2}|\n",
    "|$$b^{ij}$$|b^{ij}|\n",
    "|$$c_1^2$$| c_1^2|"
   ]
  },
  {
   "cell_type": "markdown",
   "id": "de43f1e6",
   "metadata": {},
   "source": [
    "### 다항식\n",
    "\n",
    "첨자나 거듭제곱을 이용해서 다항식을 만들 수 있습니다.\n",
    "- 수식의 예: $$y^3+2x^2+x+3$$\n",
    "- LaTeX의 기술: y^3+2x^2+x+3\n",
    "\n",
    "### 제곱근\n",
    "\\sqrt를 이용해 $$\\sqrt{} $$ 기호를 기술할 수 있습니다.\n",
    "- 수식의 예 : $$\\sqrt x$$\n",
    "- LaTeX의 예 : \\sqrt x\n",
    "\n",
    "### 삼각함수\n",
    "\n",
    "\\sin 이나 \\cos 를 이용해 삼각함수를 입력할 수 있습니다.\n",
    "- 수식의 예 : $$\\sin x$$\n",
    "- LaTeX의 예 : y=\\sqrt x\n",
    "\n",
    "### 분수\n",
    "\\frac{}{}을 이용해 분수를 기술할 수 있습니다.\n",
    "- 수식의 예:$$y=\\frac{17}{25}$$\n",
    "- LaTex의 기술: y=\\frac{17}{25}\n",
    "\n",
    "### 총합\n",
    "\\sum을 이용해 $$\\sum$$기호를 기술할 수 있습니다.\n",
    "- 수식의 예 : $$y = \\sum_{k=1}^n a_k$$\n",
    "- LaTeX의 예 : y = \\sum_{k=1}^n a_k\n",
    "\n",
    "### 총곱\n",
    "\\prod을 이용해 $$\\prod$$ 기호를 기술할 수 있습니다.\n",
    "- 수식의 예 : $$y = \\prod_{k=1}^n a_k$$\n",
    "- LaTex의 예 : y = \\prod_{k=1}^n a_k\n",
    "\n",
    "\n",
    "LaTex에는 이외에도 여러 가지 기술이 있습니다."
   ]
  },
  {
   "cell_type": "code",
   "execution_count": null,
   "id": "33ff21f1",
   "metadata": {},
   "outputs": [],
   "source": []
  }
 ],
 "metadata": {
  "kernelspec": {
   "display_name": "Python 3 (ipykernel)",
   "language": "python",
   "name": "python3"
  },
  "language_info": {
   "codemirror_mode": {
    "name": "ipython",
    "version": 3
   },
   "file_extension": ".py",
   "mimetype": "text/x-python",
   "name": "python",
   "nbconvert_exporter": "python",
   "pygments_lexer": "ipython3",
   "version": "3.10.5"
  }
 },
 "nbformat": 4,
 "nbformat_minor": 5
}
