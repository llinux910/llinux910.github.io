{
 "cells": [
  {
   "cell_type": "markdown",
   "id": "e8ccd276",
   "metadata": {},
   "source": [
    "# 총합과 총곱\n",
    "\n",
    "총합과 총곱을 간결한 기호로 기술하고, numpy로 구현하는 방법을 알아봅니다.\n",
    "\n",
    "## 총합\n",
    "\n",
    "총합은 다음과 같이 여러 개의 수치를 모두 더하는걸 말합니다.\n",
    "$$\n",
    "1+3+2+5+4\n",
    "$$\n",
    "이 떄, 수치의 총 수를 n개로 일반화하면 다음과 같습니다.\n",
    "$$\n",
    "a_1+1_2+ ... +a_{n-1}+a_n \n",
    "$$\n",
    "이것을 $$\\sum$$(시그마)를 이용해서 다음과 같이 짧게 기술할 수 있습니다.\n",
    "$$\n",
    "\\sum_{k=1}^n a_k\n",
    "$$\n",
    "\n",
    "앞에서 다룬 다항식의 일반형은 $$\\sum$$를 이용해서 짧게 기술할 수 있습니다.\n",
    "\n",
    "$$\n",
    "y = a_{n}x^n + a_{n-1}x^{n-1} + ... + a_1x + a_0 = \\\\ \\sum_{k=0}^n a_kx^k\n",
    "$$"
   ]
  },
  {
   "cell_type": "markdown",
   "id": "ce3adc3a",
   "metadata": {},
   "source": [
    "## 총합을 구현\n",
    "\n",
    "다음의 총합을 코드로 구현합니다. 총합은 numpy의 **sum()** 함수를 사용해서 간단히 구할 수 있습니다.\n",
    "\n",
    "$$\n",
    "a_1 = 1, a_2 = 3, a_3 = 2, a_4 = 5, a_5 = 4\\\\\n",
    "y = \\sum_{k=1}^5 a_k\n",
    "$$"
   ]
  },
  {
   "cell_type": "code",
   "execution_count": 1,
   "id": "32abfe41",
   "metadata": {},
   "outputs": [
    {
     "name": "stdout",
     "output_type": "stream",
     "text": [
      "15\n"
     ]
    }
   ],
   "source": [
    "import numpy as np\n",
    "\n",
    "a = np.array([1,3,2,5,4]) # a1부터 a5까지\n",
    "y = np.sum(a) # 총합\n",
    "print(y)"
   ]
  },
  {
   "cell_type": "markdown",
   "id": "31c8cf31",
   "metadata": {},
   "source": [
    "## 총곱\n",
    "\n",
    "총곱은 다음과 같이 여러 개의 수치를 모두 곱한 걸 말합니다.\n",
    "$$\n",
    " 1 * 3 * 2 * 5 * 4\n",
    "$$\n",
    "이것을 수치의 총 수가 n개로서 일반화하면 다음과 같습니다.\n",
    "$$\n",
    "a_1a_2...a_{n-1}a_n\n",
    "$$\n",
    "\n",
    "이것은 $$\\prod$$기호를 이용해서 다음과 같이 짧게 기술할 수 있습니다.\n",
    "\n",
    "$$\n",
    "\\prod_{k=1}^n ak\n",
    "$$\n",
    "\n",
    "## 총곱을 구현\n",
    "\n",
    "다음의 총곱을 코드로 구현합니다. 총곱은 numpy의 **prod()** 함수를 사용해서 간단히 구할 수 있습니다."
   ]
  },
  {
   "cell_type": "code",
   "execution_count": 2,
   "id": "fafb6bb5",
   "metadata": {},
   "outputs": [
    {
     "name": "stdout",
     "output_type": "stream",
     "text": [
      "120\n"
     ]
    }
   ],
   "source": [
    "import numpy as np\n",
    "\n",
    "a = np.array([1,3,2,5,4]) # a1부터 a5까지\n",
    "y = np.prod(a) # 총곱\n",
    "print(y)"
   ]
  },
  {
   "cell_type": "markdown",
   "id": "cd27b7e3",
   "metadata": {},
   "source": [
    "다음과 같이 **prod()** 함수로 배열의 요소가 전부 곱해집니다."
   ]
  },
  {
   "cell_type": "code",
   "execution_count": null,
   "id": "701b0cbd",
   "metadata": {},
   "outputs": [],
   "source": []
  }
 ],
 "metadata": {
  "kernelspec": {
   "display_name": "Python 3 (ipykernel)",
   "language": "python",
   "name": "python3"
  },
  "language_info": {
   "codemirror_mode": {
    "name": "ipython",
    "version": 3
   },
   "file_extension": ".py",
   "mimetype": "text/x-python",
   "name": "python",
   "nbconvert_exporter": "python",
   "pygments_lexer": "ipython3",
   "version": "3.10.5"
  }
 },
 "nbformat": 4,
 "nbformat_minor": 5
}
